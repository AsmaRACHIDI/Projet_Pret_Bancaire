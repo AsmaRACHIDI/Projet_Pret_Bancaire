{
 "cells": [
  {
   "cell_type": "code",
   "execution_count": 1,
   "id": "6c64819d",
   "metadata": {},
   "outputs": [],
   "source": [
    "import  numpy as np\n",
    "import  pandas as pd\n",
    "import seaborn as sns\n",
    "import matplotlib.pyplot as plt\n",
    "%matplotlib inline"
   ]
  },
  {
   "cell_type": "code",
   "execution_count": 2,
   "id": "01ac774e",
   "metadata": {},
   "outputs": [],
   "source": [
    "from sklearn.model_selection import train_test_split\n",
    "\n",
    "from sklearn.preprocessing import StandardScaler\n",
    "from sklearn.neural_network import MLPClassifier\n",
    "from sklearn.model_selection import GridSearchCV\n",
    "from sklearn.metrics import confusion_matrix, classification_report\n",
    "\n",
    "from sklearn import feature_selection\n",
    "from sklearn import model_selection\n",
    "from sklearn.metrics import accuracy_score \n",
    "from sklearn.linear_model import LogisticRegression\n",
    "from sklearn.svm import SVC\n",
    "from sklearn.naive_bayes import GaussianNB\n",
    "from sklearn.ensemble import RandomForestClassifier,GradientBoostingClassifier\n",
    "from sklearn.neighbors import KNeighborsClassifier\n",
    "\n",
    "from sklearn.metrics import f1_score\n",
    "\n",
    "import warnings\n",
    "warnings.filterwarnings('ignore')"
   ]
  },
  {
   "cell_type": "markdown",
   "id": "1fb037e2",
   "metadata": {},
   "source": [
    "# Récupération du dataframe nettoyé"
   ]
  },
  {
   "cell_type": "code",
   "execution_count": 3,
   "id": "c49b6b3d",
   "metadata": {},
   "outputs": [],
   "source": [
    "df = pd.read_csv('train_propre.csv')\n",
    "#test = pd.read_csv('test_propre.csv')"
   ]
  },
  {
   "cell_type": "code",
   "execution_count": 4,
   "id": "888e6b8f",
   "metadata": {},
   "outputs": [
    {
     "data": {
      "text/html": [
       "<div>\n",
       "<style scoped>\n",
       "    .dataframe tbody tr th:only-of-type {\n",
       "        vertical-align: middle;\n",
       "    }\n",
       "\n",
       "    .dataframe tbody tr th {\n",
       "        vertical-align: top;\n",
       "    }\n",
       "\n",
       "    .dataframe thead th {\n",
       "        text-align: right;\n",
       "    }\n",
       "</style>\n",
       "<table border=\"1\" class=\"dataframe\">\n",
       "  <thead>\n",
       "    <tr style=\"text-align: right;\">\n",
       "      <th></th>\n",
       "      <th>Gender</th>\n",
       "      <th>Married</th>\n",
       "      <th>Dependents</th>\n",
       "      <th>Education</th>\n",
       "      <th>Self_Employed</th>\n",
       "      <th>ApplicantIncome</th>\n",
       "      <th>CoapplicantIncome</th>\n",
       "      <th>LoanAmount</th>\n",
       "      <th>Loan_Amount_Term</th>\n",
       "      <th>Credit_History</th>\n",
       "      <th>Property_Area</th>\n",
       "      <th>Loan_Status</th>\n",
       "    </tr>\n",
       "  </thead>\n",
       "  <tbody>\n",
       "    <tr>\n",
       "      <th>0</th>\n",
       "      <td>0</td>\n",
       "      <td>1</td>\n",
       "      <td>1</td>\n",
       "      <td>1</td>\n",
       "      <td>0</td>\n",
       "      <td>4583</td>\n",
       "      <td>1508.0</td>\n",
       "      <td>128.0</td>\n",
       "      <td>360.0</td>\n",
       "      <td>1</td>\n",
       "      <td>1</td>\n",
       "      <td>0</td>\n",
       "    </tr>\n",
       "    <tr>\n",
       "      <th>1</th>\n",
       "      <td>0</td>\n",
       "      <td>1</td>\n",
       "      <td>0</td>\n",
       "      <td>1</td>\n",
       "      <td>1</td>\n",
       "      <td>3000</td>\n",
       "      <td>0.0</td>\n",
       "      <td>66.0</td>\n",
       "      <td>360.0</td>\n",
       "      <td>1</td>\n",
       "      <td>3</td>\n",
       "      <td>1</td>\n",
       "    </tr>\n",
       "    <tr>\n",
       "      <th>2</th>\n",
       "      <td>0</td>\n",
       "      <td>1</td>\n",
       "      <td>0</td>\n",
       "      <td>0</td>\n",
       "      <td>0</td>\n",
       "      <td>2583</td>\n",
       "      <td>2358.0</td>\n",
       "      <td>120.0</td>\n",
       "      <td>360.0</td>\n",
       "      <td>1</td>\n",
       "      <td>3</td>\n",
       "      <td>1</td>\n",
       "    </tr>\n",
       "    <tr>\n",
       "      <th>3</th>\n",
       "      <td>0</td>\n",
       "      <td>0</td>\n",
       "      <td>0</td>\n",
       "      <td>1</td>\n",
       "      <td>0</td>\n",
       "      <td>6000</td>\n",
       "      <td>0.0</td>\n",
       "      <td>141.0</td>\n",
       "      <td>360.0</td>\n",
       "      <td>1</td>\n",
       "      <td>3</td>\n",
       "      <td>1</td>\n",
       "    </tr>\n",
       "    <tr>\n",
       "      <th>4</th>\n",
       "      <td>0</td>\n",
       "      <td>1</td>\n",
       "      <td>2</td>\n",
       "      <td>1</td>\n",
       "      <td>1</td>\n",
       "      <td>5417</td>\n",
       "      <td>4196.0</td>\n",
       "      <td>267.0</td>\n",
       "      <td>360.0</td>\n",
       "      <td>1</td>\n",
       "      <td>3</td>\n",
       "      <td>1</td>\n",
       "    </tr>\n",
       "  </tbody>\n",
       "</table>\n",
       "</div>"
      ],
      "text/plain": [
       "   Gender  Married  Dependents  Education  Self_Employed  ApplicantIncome  \\\n",
       "0       0        1           1          1              0             4583   \n",
       "1       0        1           0          1              1             3000   \n",
       "2       0        1           0          0              0             2583   \n",
       "3       0        0           0          1              0             6000   \n",
       "4       0        1           2          1              1             5417   \n",
       "\n",
       "   CoapplicantIncome  LoanAmount  Loan_Amount_Term  Credit_History  \\\n",
       "0             1508.0       128.0             360.0               1   \n",
       "1                0.0        66.0             360.0               1   \n",
       "2             2358.0       120.0             360.0               1   \n",
       "3                0.0       141.0             360.0               1   \n",
       "4             4196.0       267.0             360.0               1   \n",
       "\n",
       "   Property_Area  Loan_Status  \n",
       "0              1            0  \n",
       "1              3            1  \n",
       "2              3            1  \n",
       "3              3            1  \n",
       "4              3            1  "
      ]
     },
     "execution_count": 4,
     "metadata": {},
     "output_type": "execute_result"
    }
   ],
   "source": [
    "df.head()"
   ]
  },
  {
   "cell_type": "code",
   "execution_count": 5,
   "id": "e393bed8",
   "metadata": {},
   "outputs": [],
   "source": [
    "#test.head()"
   ]
  },
  {
   "cell_type": "code",
   "execution_count": 6,
   "id": "57f67ea2",
   "metadata": {},
   "outputs": [
    {
     "data": {
      "text/html": [
       "<div>\n",
       "<style scoped>\n",
       "    .dataframe tbody tr th:only-of-type {\n",
       "        vertical-align: middle;\n",
       "    }\n",
       "\n",
       "    .dataframe tbody tr th {\n",
       "        vertical-align: top;\n",
       "    }\n",
       "\n",
       "    .dataframe thead th {\n",
       "        text-align: right;\n",
       "    }\n",
       "</style>\n",
       "<table border=\"1\" class=\"dataframe\">\n",
       "  <thead>\n",
       "    <tr style=\"text-align: right;\">\n",
       "      <th></th>\n",
       "      <th>Gender</th>\n",
       "      <th>Married</th>\n",
       "      <th>Dependents</th>\n",
       "      <th>Education</th>\n",
       "      <th>Self_Employed</th>\n",
       "      <th>ApplicantIncome</th>\n",
       "      <th>CoapplicantIncome</th>\n",
       "      <th>LoanAmount</th>\n",
       "      <th>Loan_Amount_Term</th>\n",
       "      <th>Credit_History</th>\n",
       "      <th>Property_Area</th>\n",
       "    </tr>\n",
       "  </thead>\n",
       "  <tbody>\n",
       "    <tr>\n",
       "      <th>0</th>\n",
       "      <td>0</td>\n",
       "      <td>1</td>\n",
       "      <td>1</td>\n",
       "      <td>1</td>\n",
       "      <td>0</td>\n",
       "      <td>4583</td>\n",
       "      <td>1508.0</td>\n",
       "      <td>128.0</td>\n",
       "      <td>360.0</td>\n",
       "      <td>1</td>\n",
       "      <td>1</td>\n",
       "    </tr>\n",
       "    <tr>\n",
       "      <th>1</th>\n",
       "      <td>0</td>\n",
       "      <td>1</td>\n",
       "      <td>0</td>\n",
       "      <td>1</td>\n",
       "      <td>1</td>\n",
       "      <td>3000</td>\n",
       "      <td>0.0</td>\n",
       "      <td>66.0</td>\n",
       "      <td>360.0</td>\n",
       "      <td>1</td>\n",
       "      <td>3</td>\n",
       "    </tr>\n",
       "    <tr>\n",
       "      <th>2</th>\n",
       "      <td>0</td>\n",
       "      <td>1</td>\n",
       "      <td>0</td>\n",
       "      <td>0</td>\n",
       "      <td>0</td>\n",
       "      <td>2583</td>\n",
       "      <td>2358.0</td>\n",
       "      <td>120.0</td>\n",
       "      <td>360.0</td>\n",
       "      <td>1</td>\n",
       "      <td>3</td>\n",
       "    </tr>\n",
       "    <tr>\n",
       "      <th>3</th>\n",
       "      <td>0</td>\n",
       "      <td>0</td>\n",
       "      <td>0</td>\n",
       "      <td>1</td>\n",
       "      <td>0</td>\n",
       "      <td>6000</td>\n",
       "      <td>0.0</td>\n",
       "      <td>141.0</td>\n",
       "      <td>360.0</td>\n",
       "      <td>1</td>\n",
       "      <td>3</td>\n",
       "    </tr>\n",
       "    <tr>\n",
       "      <th>4</th>\n",
       "      <td>0</td>\n",
       "      <td>1</td>\n",
       "      <td>2</td>\n",
       "      <td>1</td>\n",
       "      <td>1</td>\n",
       "      <td>5417</td>\n",
       "      <td>4196.0</td>\n",
       "      <td>267.0</td>\n",
       "      <td>360.0</td>\n",
       "      <td>1</td>\n",
       "      <td>3</td>\n",
       "    </tr>\n",
       "    <tr>\n",
       "      <th>...</th>\n",
       "      <td>...</td>\n",
       "      <td>...</td>\n",
       "      <td>...</td>\n",
       "      <td>...</td>\n",
       "      <td>...</td>\n",
       "      <td>...</td>\n",
       "      <td>...</td>\n",
       "      <td>...</td>\n",
       "      <td>...</td>\n",
       "      <td>...</td>\n",
       "      <td>...</td>\n",
       "    </tr>\n",
       "    <tr>\n",
       "      <th>494</th>\n",
       "      <td>1</td>\n",
       "      <td>0</td>\n",
       "      <td>0</td>\n",
       "      <td>1</td>\n",
       "      <td>0</td>\n",
       "      <td>2900</td>\n",
       "      <td>0.0</td>\n",
       "      <td>71.0</td>\n",
       "      <td>360.0</td>\n",
       "      <td>1</td>\n",
       "      <td>1</td>\n",
       "    </tr>\n",
       "    <tr>\n",
       "      <th>495</th>\n",
       "      <td>0</td>\n",
       "      <td>1</td>\n",
       "      <td>3</td>\n",
       "      <td>1</td>\n",
       "      <td>0</td>\n",
       "      <td>4106</td>\n",
       "      <td>0.0</td>\n",
       "      <td>40.0</td>\n",
       "      <td>180.0</td>\n",
       "      <td>1</td>\n",
       "      <td>1</td>\n",
       "    </tr>\n",
       "    <tr>\n",
       "      <th>496</th>\n",
       "      <td>0</td>\n",
       "      <td>1</td>\n",
       "      <td>1</td>\n",
       "      <td>1</td>\n",
       "      <td>0</td>\n",
       "      <td>8072</td>\n",
       "      <td>240.0</td>\n",
       "      <td>253.0</td>\n",
       "      <td>360.0</td>\n",
       "      <td>1</td>\n",
       "      <td>3</td>\n",
       "    </tr>\n",
       "    <tr>\n",
       "      <th>497</th>\n",
       "      <td>0</td>\n",
       "      <td>1</td>\n",
       "      <td>2</td>\n",
       "      <td>1</td>\n",
       "      <td>0</td>\n",
       "      <td>7583</td>\n",
       "      <td>0.0</td>\n",
       "      <td>187.0</td>\n",
       "      <td>360.0</td>\n",
       "      <td>1</td>\n",
       "      <td>3</td>\n",
       "    </tr>\n",
       "    <tr>\n",
       "      <th>498</th>\n",
       "      <td>1</td>\n",
       "      <td>0</td>\n",
       "      <td>0</td>\n",
       "      <td>1</td>\n",
       "      <td>1</td>\n",
       "      <td>4583</td>\n",
       "      <td>0.0</td>\n",
       "      <td>133.0</td>\n",
       "      <td>360.0</td>\n",
       "      <td>0</td>\n",
       "      <td>2</td>\n",
       "    </tr>\n",
       "  </tbody>\n",
       "</table>\n",
       "<p>499 rows × 11 columns</p>\n",
       "</div>"
      ],
      "text/plain": [
       "     Gender  Married  Dependents  Education  Self_Employed  ApplicantIncome  \\\n",
       "0         0        1           1          1              0             4583   \n",
       "1         0        1           0          1              1             3000   \n",
       "2         0        1           0          0              0             2583   \n",
       "3         0        0           0          1              0             6000   \n",
       "4         0        1           2          1              1             5417   \n",
       "..      ...      ...         ...        ...            ...              ...   \n",
       "494       1        0           0          1              0             2900   \n",
       "495       0        1           3          1              0             4106   \n",
       "496       0        1           1          1              0             8072   \n",
       "497       0        1           2          1              0             7583   \n",
       "498       1        0           0          1              1             4583   \n",
       "\n",
       "     CoapplicantIncome  LoanAmount  Loan_Amount_Term  Credit_History  \\\n",
       "0               1508.0       128.0             360.0               1   \n",
       "1                  0.0        66.0             360.0               1   \n",
       "2               2358.0       120.0             360.0               1   \n",
       "3                  0.0       141.0             360.0               1   \n",
       "4               4196.0       267.0             360.0               1   \n",
       "..                 ...         ...               ...             ...   \n",
       "494                0.0        71.0             360.0               1   \n",
       "495                0.0        40.0             180.0               1   \n",
       "496              240.0       253.0             360.0               1   \n",
       "497                0.0       187.0             360.0               1   \n",
       "498                0.0       133.0             360.0               0   \n",
       "\n",
       "     Property_Area  \n",
       "0                1  \n",
       "1                3  \n",
       "2                3  \n",
       "3                3  \n",
       "4                3  \n",
       "..             ...  \n",
       "494              1  \n",
       "495              1  \n",
       "496              3  \n",
       "497              3  \n",
       "498              2  \n",
       "\n",
       "[499 rows x 11 columns]"
      ]
     },
     "execution_count": 6,
     "metadata": {},
     "output_type": "execute_result"
    }
   ],
   "source": [
    "X = df.drop([\"Loan_Status\"], axis=1)\n",
    "X"
   ]
  },
  {
   "cell_type": "code",
   "execution_count": 7,
   "id": "fd399c34",
   "metadata": {},
   "outputs": [
    {
     "data": {
      "text/plain": [
       "(499, 11)"
      ]
     },
     "execution_count": 7,
     "metadata": {},
     "output_type": "execute_result"
    }
   ],
   "source": [
    "X.shape"
   ]
  },
  {
   "cell_type": "code",
   "execution_count": 8,
   "id": "6b0f13ca",
   "metadata": {},
   "outputs": [
    {
     "data": {
      "text/plain": [
       "Index(['Gender', 'Married', 'Dependents', 'Education', 'Self_Employed',\n",
       "       'ApplicantIncome', 'CoapplicantIncome', 'LoanAmount',\n",
       "       'Loan_Amount_Term', 'Credit_History', 'Property_Area'],\n",
       "      dtype='object')"
      ]
     },
     "execution_count": 8,
     "metadata": {},
     "output_type": "execute_result"
    }
   ],
   "source": [
    "X.columns"
   ]
  },
  {
   "cell_type": "code",
   "execution_count": 9,
   "id": "9cc31c23",
   "metadata": {},
   "outputs": [
    {
     "data": {
      "text/plain": [
       "0      0\n",
       "1      1\n",
       "2      1\n",
       "3      1\n",
       "4      1\n",
       "      ..\n",
       "494    1\n",
       "495    1\n",
       "496    1\n",
       "497    1\n",
       "498    0\n",
       "Name: Loan_Status, Length: 499, dtype: int64"
      ]
     },
     "execution_count": 9,
     "metadata": {},
     "output_type": "execute_result"
    }
   ],
   "source": [
    "y = df[\"Loan_Status\"]\n",
    "y"
   ]
  },
  {
   "cell_type": "code",
   "execution_count": 10,
   "id": "e850e92b",
   "metadata": {},
   "outputs": [
    {
     "data": {
      "text/plain": [
       "(499,)"
      ]
     },
     "execution_count": 10,
     "metadata": {},
     "output_type": "execute_result"
    }
   ],
   "source": [
    "y.shape"
   ]
  },
  {
   "cell_type": "markdown",
   "id": "5aeccf2b",
   "metadata": {},
   "source": [
    "# TRAIN/TEST Split"
   ]
  },
  {
   "cell_type": "code",
   "execution_count": 11,
   "id": "9d669be9",
   "metadata": {},
   "outputs": [],
   "source": [
    "X_train, X_test, y_train, y_test = train_test_split(X, y, test_size=0.2, random_state=42, shuffle=True)"
   ]
  },
  {
   "cell_type": "code",
   "execution_count": 12,
   "id": "25c6932d",
   "metadata": {},
   "outputs": [
    {
     "data": {
      "image/png": "[encoded data removed]",
      "text/plain": [
       "<Figure size 800x500 with 1 Axes>"
      ]
     },
     "metadata": {
      "needs_background": "light"
     },
     "output_type": "display_data"
    }
   ],
   "source": [
    "plt.figure(figsize=(8,5), dpi=100)\n",
    "plt.title(\"Distribution des données\")\n",
    "plt.hist(y, label=\"jeu total\")\n",
    "plt.hist(y_train, label=\"jeu d'apprentissage\")\n",
    "plt.hist(y_test, label=\"jeu de test\")\n",
    "plt.xlabel(\"Attribution du prêt\")\n",
    "plt.ylabel(\"Nombre d'exemples\")\n",
    "plt.legend()\n",
    "plt.show()"
   ]
  },
  {
   "cell_type": "code",
   "execution_count": 13,
   "id": "a33764bd",
   "metadata": {},
   "outputs": [
    {
     "data": {
      "text/plain": [
       "(399, 11)"
      ]
     },
     "execution_count": 13,
     "metadata": {},
     "output_type": "execute_result"
    }
   ],
   "source": [
    "X_train.shape"
   ]
  },
  {
   "cell_type": "code",
   "execution_count": 14,
   "id": "3fd05779",
   "metadata": {},
   "outputs": [
    {
     "data": {
      "text/plain": [
       "(399,)"
      ]
     },
     "execution_count": 14,
     "metadata": {},
     "output_type": "execute_result"
    }
   ],
   "source": [
    "y_train.shape"
   ]
  },
  {
   "cell_type": "code",
   "execution_count": 15,
   "id": "5492594f",
   "metadata": {},
   "outputs": [
    {
     "data": {
      "text/plain": [
       "(100, 11)"
      ]
     },
     "execution_count": 15,
     "metadata": {},
     "output_type": "execute_result"
    }
   ],
   "source": [
    "X_test.shape"
   ]
  },
  {
   "cell_type": "code",
   "execution_count": 16,
   "id": "9008ef4a",
   "metadata": {},
   "outputs": [
    {
     "data": {
      "text/plain": [
       "(100,)"
      ]
     },
     "execution_count": 16,
     "metadata": {},
     "output_type": "execute_result"
    }
   ],
   "source": [
    "y_test.shape"
   ]
  },
  {
   "cell_type": "markdown",
   "id": "c9df3158",
   "metadata": {},
   "source": [
    "# Features Scaling \n",
    "\n",
    " transformer les variables continues en utilsant MinMaxScaler\n",
    " \n",
    " https://towardsdatascience.com/what-is-feature-scaling-why-is-it-important-in-machine-learning-2854ae877048\n",
    " \n",
    " https://medium.com/codex/feature-scaling-in-machine-learning-e86b360d1c31"
   ]
  },
  {
   "cell_type": "code",
   "execution_count": 17,
   "id": "abd88cb6",
   "metadata": {},
   "outputs": [
    {
     "data": {
      "text/html": [
       "<style>#sk-container-id-1 {color: black;background-color: white;}#sk-container-id-1 pre{padding: 0;}#sk-container-id-1 div.sk-toggleable {background-color: white;}#sk-container-id-1 label.sk-toggleable__label {cursor: pointer;display: block;width: 100%;margin-bottom: 0;padding: 0.3em;box-sizing: border-box;text-align: center;}#sk-container-id-1 label.sk-toggleable__label-arrow:before {content: \"▸\";float: left;margin-right: 0.25em;color: #696969;}#sk-container-id-1 label.sk-toggleable__label-arrow:hover:before {color: black;}#sk-container-id-1 div.sk-estimator:hover label.sk-toggleable__label-arrow:before {color: black;}#sk-container-id-1 div.sk-toggleable__content {max-height: 0;max-width: 0;overflow: hidden;text-align: left;background-color: #f0f8ff;}#sk-container-id-1 div.sk-toggleable__content pre {margin: 0.2em;color: black;border-radius: 0.25em;background-color: #f0f8ff;}#sk-container-id-1 input.sk-toggleable__control:checked~div.sk-toggleable__content {max-height: 200px;max-width: 100%;overflow: auto;}#sk-container-id-1 input.sk-toggleable__control:checked~label.sk-toggleable__label-arrow:before {content: \"▾\";}#sk-container-id-1 div.sk-estimator input.sk-toggleable__control:checked~label.sk-toggleable__label {background-color: #d4ebff;}#sk-container-id-1 div.sk-label input.sk-toggleable__control:checked~label.sk-toggleable__label {background-color: #d4ebff;}#sk-container-id-1 input.sk-hidden--visually {border: 0;clip: rect(1px 1px 1px 1px);clip: rect(1px, 1px, 1px, 1px);height: 1px;margin: -1px;overflow: hidden;padding: 0;position: absolute;width: 1px;}#sk-container-id-1 div.sk-estimator {font-family: monospace;background-color: #f0f8ff;border: 1px dotted black;border-radius: 0.25em;box-sizing: border-box;margin-bottom: 0.5em;}#sk-container-id-1 div.sk-estimator:hover {background-color: #d4ebff;}#sk-container-id-1 div.sk-parallel-item::after {content: \"\";width: 100%;border-bottom: 1px solid gray;flex-grow: 1;}#sk-container-id-1 div.sk-label:hover label.sk-toggleable__label {background-color: #d4ebff;}#sk-container-id-1 div.sk-serial::before {content: \"\";position: absolute;border-left: 1px solid gray;box-sizing: border-box;top: 0;bottom: 0;left: 50%;z-index: 0;}#sk-container-id-1 div.sk-serial {display: flex;flex-direction: column;align-items: center;background-color: white;padding-right: 0.2em;padding-left: 0.2em;position: relative;}#sk-container-id-1 div.sk-item {position: relative;z-index: 1;}#sk-container-id-1 div.sk-parallel {display: flex;align-items: stretch;justify-content: center;background-color: white;position: relative;}#sk-container-id-1 div.sk-item::before, #sk-container-id-1 div.sk-parallel-item::before {content: \"\";position: absolute;border-left: 1px solid gray;box-sizing: border-box;top: 0;bottom: 0;left: 50%;z-index: -1;}#sk-container-id-1 div.sk-parallel-item {display: flex;flex-direction: column;z-index: 1;position: relative;background-color: white;}#sk-container-id-1 div.sk-parallel-item:first-child::after {align-self: flex-end;width: 50%;}#sk-container-id-1 div.sk-parallel-item:last-child::after {align-self: flex-start;width: 50%;}#sk-container-id-1 div.sk-parallel-item:only-child::after {width: 0;}#sk-container-id-1 div.sk-dashed-wrapped {border: 1px dashed gray;margin: 0 0.4em 0.5em 0.4em;box-sizing: border-box;padding-bottom: 0.4em;background-color: white;}#sk-container-id-1 div.sk-label label {font-family: monospace;font-weight: bold;display: inline-block;line-height: 1.2em;}#sk-container-id-1 div.sk-label-container {text-align: center;}#sk-container-id-1 div.sk-container {/* jupyter's `normalize.less` sets `[hidden] { display: none; }` but bootstrap.min.css set `[hidden] { display: none !important; }` so we also need the `!important` here to be able to override the default hidden behavior on the sphinx rendered scikit-learn.org. See: https://github.com/scikit-learn/scikit-learn/issues/21755 */display: inline-block !important;position: relative;}#sk-container-id-1 div.sk-text-repr-fallback {display: none;}</style><div id=\"sk-container-id-1\" class=\"sk-top-container\"><div class=\"sk-text-repr-fallback\"><pre>StandardScaler()</pre><b>In a Jupyter environment, please rerun this cell to show the HTML representation or trust the notebook. <br />On GitHub, the HTML representation is unable to render, please try loading this page with nbviewer.org.</b></div><div class=\"sk-container\" hidden><div class=\"sk-item\"><div class=\"sk-estimator sk-toggleable\"><input class=\"sk-toggleable__control sk-hidden--visually\" id=\"sk-estimator-id-1\" type=\"checkbox\" checked><label for=\"sk-estimator-id-1\" class=\"sk-toggleable__label sk-toggleable__label-arrow\">StandardScaler</label><div class=\"sk-toggleable__content\"><pre>StandardScaler()</pre></div></div></div></div></div>"
      ],
      "text/plain": [
       "StandardScaler()"
      ]
     },
     "execution_count": 17,
     "metadata": {},
     "output_type": "execute_result"
    }
   ],
   "source": [
    "scaler = StandardScaler()\n",
    "\n",
    "scaler.fit(X_train)"
   ]
  },
  {
   "cell_type": "code",
   "execution_count": 18,
   "id": "e55d2aa1",
   "metadata": {},
   "outputs": [],
   "source": [
    "scaled_X_train = scaler.transform(X_train)\n",
    "scaled_X_test = scaler.transform(X_test)"
   ]
  },
  {
   "cell_type": "code",
   "execution_count": 19,
   "id": "2561c2e2",
   "metadata": {},
   "outputs": [
    {
     "data": {
      "image/png": "[encoded data removed]",
      "text/plain": [
       "<Figure size 1600x1000 with 2 Axes>"
      ]
     },
     "metadata": {
      "needs_background": "light"
     },
     "output_type": "display_data"
    }
   ],
   "source": [
    "plt.figure(figsize=(16, 10), dpi=100)\n",
    "\n",
    "plt.subplot(1, 2, 1)\n",
    "plt.title('Raw Data')\n",
    "plt.boxplot(X_train)\n",
    "plt.xlabel('Caractéristiques')\n",
    "\n",
    "plt.subplot(1, 2, 2)\n",
    "plt.title('Scaled Data')\n",
    "plt.boxplot(scaled_X_train)\n",
    "plt.xlabel('Caractéristiques')\n",
    "\n",
    "plt.show()"
   ]
  },
  {
   "cell_type": "markdown",
   "id": "d1eeb5e0",
   "metadata": {},
   "source": [
    "# GridSearchCV MLPClassifier (perceptron)"
   ]
  },
  {
   "cell_type": "code",
   "execution_count": 20,
   "id": "721366bd",
   "metadata": {},
   "outputs": [],
   "source": [
    "hyperparameters = {'hidden_layer_sizes': [(1,), (3,), (5,), (7,)], 'activation': ['logistic', 'tanh', 'relu']}"
   ]
  },
  {
   "cell_type": "code",
   "execution_count": 21,
   "id": "4fa1135a",
   "metadata": {},
   "outputs": [],
   "source": [
    "model = MLPClassifier(solver='lbfgs', alpha=0.0001, max_iter=10000, random_state=0, max_fun=15000)"
   ]
  },
  {
   "cell_type": "code",
   "execution_count": 22,
   "id": "b505c48e",
   "metadata": {},
   "outputs": [
    {
     "data": {
      "text/html": [
       "<style>#sk-container-id-2 {color: black;background-color: white;}#sk-container-id-2 pre{padding: 0;}#sk-container-id-2 div.sk-toggleable {background-color: white;}#sk-container-id-2 label.sk-toggleable__label {cursor: pointer;display: block;width: 100%;margin-bottom: 0;padding: 0.3em;box-sizing: border-box;text-align: center;}#sk-container-id-2 label.sk-toggleable__label-arrow:before {content: \"▸\";float: left;margin-right: 0.25em;color: #696969;}#sk-container-id-2 label.sk-toggleable__label-arrow:hover:before {color: black;}#sk-container-id-2 div.sk-estimator:hover label.sk-toggleable__label-arrow:before {color: black;}#sk-container-id-2 div.sk-toggleable__content {max-height: 0;max-width: 0;overflow: hidden;text-align: left;background-color: #f0f8ff;}#sk-container-id-2 div.sk-toggleable__content pre {margin: 0.2em;color: black;border-radius: 0.25em;background-color: #f0f8ff;}#sk-container-id-2 input.sk-toggleable__control:checked~div.sk-toggleable__content {max-height: 200px;max-width: 100%;overflow: auto;}#sk-container-id-2 input.sk-toggleable__control:checked~label.sk-toggleable__label-arrow:before {content: \"▾\";}#sk-container-id-2 div.sk-estimator input.sk-toggleable__control:checked~label.sk-toggleable__label {background-color: #d4ebff;}#sk-container-id-2 div.sk-label input.sk-toggleable__control:checked~label.sk-toggleable__label {background-color: #d4ebff;}#sk-container-id-2 input.sk-hidden--visually {border: 0;clip: rect(1px 1px 1px 1px);clip: rect(1px, 1px, 1px, 1px);height: 1px;margin: -1px;overflow: hidden;padding: 0;position: absolute;width: 1px;}#sk-container-id-2 div.sk-estimator {font-family: monospace;background-color: #f0f8ff;border: 1px dotted black;border-radius: 0.25em;box-sizing: border-box;margin-bottom: 0.5em;}#sk-container-id-2 div.sk-estimator:hover {background-color: #d4ebff;}#sk-container-id-2 div.sk-parallel-item::after {content: \"\";width: 100%;border-bottom: 1px solid gray;flex-grow: 1;}#sk-container-id-2 div.sk-label:hover label.sk-toggleable__label {background-color: #d4ebff;}#sk-container-id-2 div.sk-serial::before {content: \"\";position: absolute;border-left: 1px solid gray;box-sizing: border-box;top: 0;bottom: 0;left: 50%;z-index: 0;}#sk-container-id-2 div.sk-serial {display: flex;flex-direction: column;align-items: center;background-color: white;padding-right: 0.2em;padding-left: 0.2em;position: relative;}#sk-container-id-2 div.sk-item {position: relative;z-index: 1;}#sk-container-id-2 div.sk-parallel {display: flex;align-items: stretch;justify-content: center;background-color: white;position: relative;}#sk-container-id-2 div.sk-item::before, #sk-container-id-2 div.sk-parallel-item::before {content: \"\";position: absolute;border-left: 1px solid gray;box-sizing: border-box;top: 0;bottom: 0;left: 50%;z-index: -1;}#sk-container-id-2 div.sk-parallel-item {display: flex;flex-direction: column;z-index: 1;position: relative;background-color: white;}#sk-container-id-2 div.sk-parallel-item:first-child::after {align-self: flex-end;width: 50%;}#sk-container-id-2 div.sk-parallel-item:last-child::after {align-self: flex-start;width: 50%;}#sk-container-id-2 div.sk-parallel-item:only-child::after {width: 0;}#sk-container-id-2 div.sk-dashed-wrapped {border: 1px dashed gray;margin: 0 0.4em 0.5em 0.4em;box-sizing: border-box;padding-bottom: 0.4em;background-color: white;}#sk-container-id-2 div.sk-label label {font-family: monospace;font-weight: bold;display: inline-block;line-height: 1.2em;}#sk-container-id-2 div.sk-label-container {text-align: center;}#sk-container-id-2 div.sk-container {/* jupyter's `normalize.less` sets `[hidden] { display: none; }` but bootstrap.min.css set `[hidden] { display: none !important; }` so we also need the `!important` here to be able to override the default hidden behavior on the sphinx rendered scikit-learn.org. See: https://github.com/scikit-learn/scikit-learn/issues/21755 */display: inline-block !important;position: relative;}#sk-container-id-2 div.sk-text-repr-fallback {display: none;}</style><div id=\"sk-container-id-2\" class=\"sk-top-container\"><div class=\"sk-text-repr-fallback\"><pre>GridSearchCV(cv=3,\n",
       "             estimator=MLPClassifier(max_iter=10000, random_state=0,\n",
       "                                     solver=&#x27;lbfgs&#x27;),\n",
       "             n_jobs=-1,\n",
       "             param_grid={&#x27;activation&#x27;: [&#x27;logistic&#x27;, &#x27;tanh&#x27;, &#x27;relu&#x27;],\n",
       "                         &#x27;hidden_layer_sizes&#x27;: [(1,), (3,), (5,), (7,)]},\n",
       "             return_train_score=True,\n",
       "             scoring=&lt;function f1_score at 0x0000020EE266A1F0&gt;)</pre><b>In a Jupyter environment, please rerun this cell to show the HTML representation or trust the notebook. <br />On GitHub, the HTML representation is unable to render, please try loading this page with nbviewer.org.</b></div><div class=\"sk-container\" hidden><div class=\"sk-item sk-dashed-wrapped\"><div class=\"sk-label-container\"><div class=\"sk-label sk-toggleable\"><input class=\"sk-toggleable__control sk-hidden--visually\" id=\"sk-estimator-id-2\" type=\"checkbox\" ><label for=\"sk-estimator-id-2\" class=\"sk-toggleable__label sk-toggleable__label-arrow\">GridSearchCV</label><div class=\"sk-toggleable__content\"><pre>GridSearchCV(cv=3,\n",
       "             estimator=MLPClassifier(max_iter=10000, random_state=0,\n",
       "                                     solver=&#x27;lbfgs&#x27;),\n",
       "             n_jobs=-1,\n",
       "             param_grid={&#x27;activation&#x27;: [&#x27;logistic&#x27;, &#x27;tanh&#x27;, &#x27;relu&#x27;],\n",
       "                         &#x27;hidden_layer_sizes&#x27;: [(1,), (3,), (5,), (7,)]},\n",
       "             return_train_score=True,\n",
       "             scoring=&lt;function f1_score at 0x0000020EE266A1F0&gt;)</pre></div></div></div><div class=\"sk-parallel\"><div class=\"sk-parallel-item\"><div class=\"sk-item\"><div class=\"sk-label-container\"><div class=\"sk-label sk-toggleable\"><input class=\"sk-toggleable__control sk-hidden--visually\" id=\"sk-estimator-id-3\" type=\"checkbox\" ><label for=\"sk-estimator-id-3\" class=\"sk-toggleable__label sk-toggleable__label-arrow\">estimator: MLPClassifier</label><div class=\"sk-toggleable__content\"><pre>MLPClassifier(max_iter=10000, random_state=0, solver=&#x27;lbfgs&#x27;)</pre></div></div></div><div class=\"sk-serial\"><div class=\"sk-item\"><div class=\"sk-estimator sk-toggleable\"><input class=\"sk-toggleable__control sk-hidden--visually\" id=\"sk-estimator-id-4\" type=\"checkbox\" ><label for=\"sk-estimator-id-4\" class=\"sk-toggleable__label sk-toggleable__label-arrow\">MLPClassifier</label><div class=\"sk-toggleable__content\"><pre>MLPClassifier(max_iter=10000, random_state=0, solver=&#x27;lbfgs&#x27;)</pre></div></div></div></div></div></div></div></div></div></div>"
      ],
      "text/plain": [
       "GridSearchCV(cv=3,\n",
       "             estimator=MLPClassifier(max_iter=10000, random_state=0,\n",
       "                                     solver='lbfgs'),\n",
       "             n_jobs=-1,\n",
       "             param_grid={'activation': ['logistic', 'tanh', 'relu'],\n",
       "                         'hidden_layer_sizes': [(1,), (3,), (5,), (7,)]},\n",
       "             return_train_score=True,\n",
       "             scoring=<function f1_score at 0x0000020EE266A1F0>)"
      ]
     },
     "execution_count": 22,
     "metadata": {},
     "output_type": "execute_result"
    }
   ],
   "source": [
    "gridSearchCV = GridSearchCV(model,\n",
    "                            hyperparameters,\n",
    "                            n_jobs=-1,\n",
    "                            refit=True,\n",
    "                            cv=3,\n",
    "                            return_train_score=True,\n",
    "                            scoring=f1_score)\n",
    "\n",
    "gridSearchCV.fit(scaled_X_train, y_train)"
   ]
  },
  {
   "cell_type": "code",
   "execution_count": 23,
   "id": "cc8fdd57",
   "metadata": {},
   "outputs": [
    {
     "data": {
      "text/plain": [
       "{'activation': 'logistic', 'hidden_layer_sizes': (1,)}"
      ]
     },
     "execution_count": 23,
     "metadata": {},
     "output_type": "execute_result"
    }
   ],
   "source": [
    "gridSearchCV.best_params_"
   ]
  },
  {
   "cell_type": "code",
   "execution_count": 24,
   "id": "041d3afc",
   "metadata": {},
   "outputs": [
    {
     "data": {
      "text/html": [
       "<div>\n",
       "<style scoped>\n",
       "    .dataframe tbody tr th:only-of-type {\n",
       "        vertical-align: middle;\n",
       "    }\n",
       "\n",
       "    .dataframe tbody tr th {\n",
       "        vertical-align: top;\n",
       "    }\n",
       "\n",
       "    .dataframe thead th {\n",
       "        text-align: right;\n",
       "    }\n",
       "</style>\n",
       "<table border=\"1\" class=\"dataframe\">\n",
       "  <thead>\n",
       "    <tr style=\"text-align: right;\">\n",
       "      <th></th>\n",
       "      <th>mean_fit_time</th>\n",
       "      <th>std_fit_time</th>\n",
       "      <th>mean_score_time</th>\n",
       "      <th>std_score_time</th>\n",
       "      <th>param_activation</th>\n",
       "      <th>param_hidden_layer_sizes</th>\n",
       "      <th>params</th>\n",
       "      <th>split0_test_score</th>\n",
       "      <th>split1_test_score</th>\n",
       "      <th>split2_test_score</th>\n",
       "      <th>mean_test_score</th>\n",
       "      <th>std_test_score</th>\n",
       "      <th>rank_test_score</th>\n",
       "      <th>split0_train_score</th>\n",
       "      <th>split1_train_score</th>\n",
       "      <th>split2_train_score</th>\n",
       "      <th>mean_train_score</th>\n",
       "      <th>std_train_score</th>\n",
       "    </tr>\n",
       "  </thead>\n",
       "  <tbody>\n",
       "    <tr>\n",
       "      <th>0</th>\n",
       "      <td>0.076708</td>\n",
       "      <td>0.031445</td>\n",
       "      <td>0.003826</td>\n",
       "      <td>1.325594e-03</td>\n",
       "      <td>logistic</td>\n",
       "      <td>(1,)</td>\n",
       "      <td>{'activation': 'logistic', 'hidden_layer_sizes...</td>\n",
       "      <td>NaN</td>\n",
       "      <td>NaN</td>\n",
       "      <td>NaN</td>\n",
       "      <td>NaN</td>\n",
       "      <td>NaN</td>\n",
       "      <td>1</td>\n",
       "      <td>NaN</td>\n",
       "      <td>NaN</td>\n",
       "      <td>NaN</td>\n",
       "      <td>NaN</td>\n",
       "      <td>NaN</td>\n",
       "    </tr>\n",
       "    <tr>\n",
       "      <th>1</th>\n",
       "      <td>0.104523</td>\n",
       "      <td>0.028277</td>\n",
       "      <td>0.006681</td>\n",
       "      <td>7.434377e-03</td>\n",
       "      <td>logistic</td>\n",
       "      <td>(3,)</td>\n",
       "      <td>{'activation': 'logistic', 'hidden_layer_sizes...</td>\n",
       "      <td>NaN</td>\n",
       "      <td>NaN</td>\n",
       "      <td>NaN</td>\n",
       "      <td>NaN</td>\n",
       "      <td>NaN</td>\n",
       "      <td>2</td>\n",
       "      <td>NaN</td>\n",
       "      <td>NaN</td>\n",
       "      <td>NaN</td>\n",
       "      <td>NaN</td>\n",
       "      <td>NaN</td>\n",
       "    </tr>\n",
       "    <tr>\n",
       "      <th>2</th>\n",
       "      <td>0.103860</td>\n",
       "      <td>0.039679</td>\n",
       "      <td>0.006015</td>\n",
       "      <td>8.149088e-04</td>\n",
       "      <td>logistic</td>\n",
       "      <td>(5,)</td>\n",
       "      <td>{'activation': 'logistic', 'hidden_layer_sizes...</td>\n",
       "      <td>NaN</td>\n",
       "      <td>NaN</td>\n",
       "      <td>NaN</td>\n",
       "      <td>NaN</td>\n",
       "      <td>NaN</td>\n",
       "      <td>3</td>\n",
       "      <td>NaN</td>\n",
       "      <td>NaN</td>\n",
       "      <td>NaN</td>\n",
       "      <td>NaN</td>\n",
       "      <td>NaN</td>\n",
       "    </tr>\n",
       "    <tr>\n",
       "      <th>3</th>\n",
       "      <td>0.249405</td>\n",
       "      <td>0.219563</td>\n",
       "      <td>0.000358</td>\n",
       "      <td>4.525907e-04</td>\n",
       "      <td>logistic</td>\n",
       "      <td>(7,)</td>\n",
       "      <td>{'activation': 'logistic', 'hidden_layer_sizes...</td>\n",
       "      <td>NaN</td>\n",
       "      <td>NaN</td>\n",
       "      <td>NaN</td>\n",
       "      <td>NaN</td>\n",
       "      <td>NaN</td>\n",
       "      <td>4</td>\n",
       "      <td>NaN</td>\n",
       "      <td>NaN</td>\n",
       "      <td>NaN</td>\n",
       "      <td>NaN</td>\n",
       "      <td>NaN</td>\n",
       "    </tr>\n",
       "    <tr>\n",
       "      <th>4</th>\n",
       "      <td>0.035350</td>\n",
       "      <td>0.005965</td>\n",
       "      <td>0.000000</td>\n",
       "      <td>0.000000e+00</td>\n",
       "      <td>tanh</td>\n",
       "      <td>(1,)</td>\n",
       "      <td>{'activation': 'tanh', 'hidden_layer_sizes': (...</td>\n",
       "      <td>NaN</td>\n",
       "      <td>NaN</td>\n",
       "      <td>NaN</td>\n",
       "      <td>NaN</td>\n",
       "      <td>NaN</td>\n",
       "      <td>5</td>\n",
       "      <td>NaN</td>\n",
       "      <td>NaN</td>\n",
       "      <td>NaN</td>\n",
       "      <td>NaN</td>\n",
       "      <td>NaN</td>\n",
       "    </tr>\n",
       "    <tr>\n",
       "      <th>5</th>\n",
       "      <td>0.069484</td>\n",
       "      <td>0.012553</td>\n",
       "      <td>0.015988</td>\n",
       "      <td>8.179684e-03</td>\n",
       "      <td>tanh</td>\n",
       "      <td>(3,)</td>\n",
       "      <td>{'activation': 'tanh', 'hidden_layer_sizes': (...</td>\n",
       "      <td>NaN</td>\n",
       "      <td>NaN</td>\n",
       "      <td>NaN</td>\n",
       "      <td>NaN</td>\n",
       "      <td>NaN</td>\n",
       "      <td>6</td>\n",
       "      <td>NaN</td>\n",
       "      <td>NaN</td>\n",
       "      <td>NaN</td>\n",
       "      <td>NaN</td>\n",
       "      <td>NaN</td>\n",
       "    </tr>\n",
       "    <tr>\n",
       "      <th>6</th>\n",
       "      <td>0.113575</td>\n",
       "      <td>0.041701</td>\n",
       "      <td>0.000997</td>\n",
       "      <td>4.052337e-07</td>\n",
       "      <td>tanh</td>\n",
       "      <td>(5,)</td>\n",
       "      <td>{'activation': 'tanh', 'hidden_layer_sizes': (...</td>\n",
       "      <td>NaN</td>\n",
       "      <td>NaN</td>\n",
       "      <td>NaN</td>\n",
       "      <td>NaN</td>\n",
       "      <td>NaN</td>\n",
       "      <td>7</td>\n",
       "      <td>NaN</td>\n",
       "      <td>NaN</td>\n",
       "      <td>NaN</td>\n",
       "      <td>NaN</td>\n",
       "      <td>NaN</td>\n",
       "    </tr>\n",
       "    <tr>\n",
       "      <th>7</th>\n",
       "      <td>0.102870</td>\n",
       "      <td>0.036590</td>\n",
       "      <td>0.000665</td>\n",
       "      <td>4.700783e-04</td>\n",
       "      <td>tanh</td>\n",
       "      <td>(7,)</td>\n",
       "      <td>{'activation': 'tanh', 'hidden_layer_sizes': (...</td>\n",
       "      <td>NaN</td>\n",
       "      <td>NaN</td>\n",
       "      <td>NaN</td>\n",
       "      <td>NaN</td>\n",
       "      <td>NaN</td>\n",
       "      <td>8</td>\n",
       "      <td>NaN</td>\n",
       "      <td>NaN</td>\n",
       "      <td>NaN</td>\n",
       "      <td>NaN</td>\n",
       "      <td>NaN</td>\n",
       "    </tr>\n",
       "    <tr>\n",
       "      <th>8</th>\n",
       "      <td>0.045067</td>\n",
       "      <td>0.010633</td>\n",
       "      <td>0.000997</td>\n",
       "      <td>8.141987e-04</td>\n",
       "      <td>relu</td>\n",
       "      <td>(1,)</td>\n",
       "      <td>{'activation': 'relu', 'hidden_layer_sizes': (...</td>\n",
       "      <td>NaN</td>\n",
       "      <td>NaN</td>\n",
       "      <td>NaN</td>\n",
       "      <td>NaN</td>\n",
       "      <td>NaN</td>\n",
       "      <td>9</td>\n",
       "      <td>NaN</td>\n",
       "      <td>NaN</td>\n",
       "      <td>NaN</td>\n",
       "      <td>NaN</td>\n",
       "      <td>NaN</td>\n",
       "    </tr>\n",
       "    <tr>\n",
       "      <th>9</th>\n",
       "      <td>0.148931</td>\n",
       "      <td>0.062747</td>\n",
       "      <td>0.009308</td>\n",
       "      <td>1.047012e-02</td>\n",
       "      <td>relu</td>\n",
       "      <td>(3,)</td>\n",
       "      <td>{'activation': 'relu', 'hidden_layer_sizes': (...</td>\n",
       "      <td>NaN</td>\n",
       "      <td>NaN</td>\n",
       "      <td>NaN</td>\n",
       "      <td>NaN</td>\n",
       "      <td>NaN</td>\n",
       "      <td>10</td>\n",
       "      <td>NaN</td>\n",
       "      <td>NaN</td>\n",
       "      <td>NaN</td>\n",
       "      <td>NaN</td>\n",
       "      <td>NaN</td>\n",
       "    </tr>\n",
       "    <tr>\n",
       "      <th>10</th>\n",
       "      <td>0.159420</td>\n",
       "      <td>0.069174</td>\n",
       "      <td>0.000998</td>\n",
       "      <td>4.052337e-07</td>\n",
       "      <td>relu</td>\n",
       "      <td>(5,)</td>\n",
       "      <td>{'activation': 'relu', 'hidden_layer_sizes': (...</td>\n",
       "      <td>NaN</td>\n",
       "      <td>NaN</td>\n",
       "      <td>NaN</td>\n",
       "      <td>NaN</td>\n",
       "      <td>NaN</td>\n",
       "      <td>11</td>\n",
       "      <td>NaN</td>\n",
       "      <td>NaN</td>\n",
       "      <td>NaN</td>\n",
       "      <td>NaN</td>\n",
       "      <td>NaN</td>\n",
       "    </tr>\n",
       "    <tr>\n",
       "      <th>11</th>\n",
       "      <td>0.388081</td>\n",
       "      <td>0.153743</td>\n",
       "      <td>0.000861</td>\n",
       "      <td>1.216976e-03</td>\n",
       "      <td>relu</td>\n",
       "      <td>(7,)</td>\n",
       "      <td>{'activation': 'relu', 'hidden_layer_sizes': (...</td>\n",
       "      <td>NaN</td>\n",
       "      <td>NaN</td>\n",
       "      <td>NaN</td>\n",
       "      <td>NaN</td>\n",
       "      <td>NaN</td>\n",
       "      <td>12</td>\n",
       "      <td>NaN</td>\n",
       "      <td>NaN</td>\n",
       "      <td>NaN</td>\n",
       "      <td>NaN</td>\n",
       "      <td>NaN</td>\n",
       "    </tr>\n",
       "  </tbody>\n",
       "</table>\n",
       "</div>"
      ],
      "text/plain": [
       "    mean_fit_time  std_fit_time  mean_score_time  std_score_time  \\\n",
       "0        0.076708      0.031445         0.003826    1.325594e-03   \n",
       "1        0.104523      0.028277         0.006681    7.434377e-03   \n",
       "2        0.103860      0.039679         0.006015    8.149088e-04   \n",
       "3        0.249405      0.219563         0.000358    4.525907e-04   \n",
       "4        0.035350      0.005965         0.000000    0.000000e+00   \n",
       "5        0.069484      0.012553         0.015988    8.179684e-03   \n",
       "6        0.113575      0.041701         0.000997    4.052337e-07   \n",
       "7        0.102870      0.036590         0.000665    4.700783e-04   \n",
       "8        0.045067      0.010633         0.000997    8.141987e-04   \n",
       "9        0.148931      0.062747         0.009308    1.047012e-02   \n",
       "10       0.159420      0.069174         0.000998    4.052337e-07   \n",
       "11       0.388081      0.153743         0.000861    1.216976e-03   \n",
       "\n",
       "   param_activation param_hidden_layer_sizes  \\\n",
       "0          logistic                     (1,)   \n",
       "1          logistic                     (3,)   \n",
       "2          logistic                     (5,)   \n",
       "3          logistic                     (7,)   \n",
       "4              tanh                     (1,)   \n",
       "5              tanh                     (3,)   \n",
       "6              tanh                     (5,)   \n",
       "7              tanh                     (7,)   \n",
       "8              relu                     (1,)   \n",
       "9              relu                     (3,)   \n",
       "10             relu                     (5,)   \n",
       "11             relu                     (7,)   \n",
       "\n",
       "                                               params  split0_test_score  \\\n",
       "0   {'activation': 'logistic', 'hidden_layer_sizes...                NaN   \n",
       "1   {'activation': 'logistic', 'hidden_layer_sizes...                NaN   \n",
       "2   {'activation': 'logistic', 'hidden_layer_sizes...                NaN   \n",
       "3   {'activation': 'logistic', 'hidden_layer_sizes...                NaN   \n",
       "4   {'activation': 'tanh', 'hidden_layer_sizes': (...                NaN   \n",
       "5   {'activation': 'tanh', 'hidden_layer_sizes': (...                NaN   \n",
       "6   {'activation': 'tanh', 'hidden_layer_sizes': (...                NaN   \n",
       "7   {'activation': 'tanh', 'hidden_layer_sizes': (...                NaN   \n",
       "8   {'activation': 'relu', 'hidden_layer_sizes': (...                NaN   \n",
       "9   {'activation': 'relu', 'hidden_layer_sizes': (...                NaN   \n",
       "10  {'activation': 'relu', 'hidden_layer_sizes': (...                NaN   \n",
       "11  {'activation': 'relu', 'hidden_layer_sizes': (...                NaN   \n",
       "\n",
       "    split1_test_score  split2_test_score  mean_test_score  std_test_score  \\\n",
       "0                 NaN                NaN              NaN             NaN   \n",
       "1                 NaN                NaN              NaN             NaN   \n",
       "2                 NaN                NaN              NaN             NaN   \n",
       "3                 NaN                NaN              NaN             NaN   \n",
       "4                 NaN                NaN              NaN             NaN   \n",
       "5                 NaN                NaN              NaN             NaN   \n",
       "6                 NaN                NaN              NaN             NaN   \n",
       "7                 NaN                NaN              NaN             NaN   \n",
       "8                 NaN                NaN              NaN             NaN   \n",
       "9                 NaN                NaN              NaN             NaN   \n",
       "10                NaN                NaN              NaN             NaN   \n",
       "11                NaN                NaN              NaN             NaN   \n",
       "\n",
       "    rank_test_score  split0_train_score  split1_train_score  \\\n",
       "0                 1                 NaN                 NaN   \n",
       "1                 2                 NaN                 NaN   \n",
       "2                 3                 NaN                 NaN   \n",
       "3                 4                 NaN                 NaN   \n",
       "4                 5                 NaN                 NaN   \n",
       "5                 6                 NaN                 NaN   \n",
       "6                 7                 NaN                 NaN   \n",
       "7                 8                 NaN                 NaN   \n",
       "8                 9                 NaN                 NaN   \n",
       "9                10                 NaN                 NaN   \n",
       "10               11                 NaN                 NaN   \n",
       "11               12                 NaN                 NaN   \n",
       "\n",
       "    split2_train_score  mean_train_score  std_train_score  \n",
       "0                  NaN               NaN              NaN  \n",
       "1                  NaN               NaN              NaN  \n",
       "2                  NaN               NaN              NaN  \n",
       "3                  NaN               NaN              NaN  \n",
       "4                  NaN               NaN              NaN  \n",
       "5                  NaN               NaN              NaN  \n",
       "6                  NaN               NaN              NaN  \n",
       "7                  NaN               NaN              NaN  \n",
       "8                  NaN               NaN              NaN  \n",
       "9                  NaN               NaN              NaN  \n",
       "10                 NaN               NaN              NaN  \n",
       "11                 NaN               NaN              NaN  "
      ]
     },
     "execution_count": 24,
     "metadata": {},
     "output_type": "execute_result"
    }
   ],
   "source": [
    "pd.DataFrame(gridSearchCV.cv_results_).sort_values(by=['rank_test_score'])"
   ]
  },
  {
   "cell_type": "markdown",
   "id": "5d783236",
   "metadata": {},
   "source": [
    "- rank_test_score : je vais prendre rank à 1 et tester avec les deux fonctions d'activation relu et tanh\n",
    "- mean_train_score : 0.86 et 0.83\n",
    "- mean_test_score : 0.82 et 0.80\n",
    "- Le meilleur c'est de prendre train et test avec le moins d'écart"
   ]
  },
  {
   "cell_type": "markdown",
   "id": "8000224a",
   "metadata": {},
   "source": [
    "## Evaluation des performances du modèle sur le jeu d'apprentissage"
   ]
  },
  {
   "cell_type": "code",
   "execution_count": 25,
   "id": "f55588fd",
   "metadata": {},
   "outputs": [],
   "source": [
    "y_predict_train = gridSearchCV.best_estimator_.predict(scaled_X_train)"
   ]
  },
  {
   "cell_type": "markdown",
   "id": "f2f0bc6b",
   "metadata": {},
   "source": [
    "## Matrice de confusion Train"
   ]
  },
  {
   "cell_type": "code",
   "execution_count": 26,
   "id": "9f35537a",
   "metadata": {},
   "outputs": [],
   "source": [
    "cm = confusion_matrix(y_train, y_predict_train, normalize='true')"
   ]
  },
  {
   "cell_type": "code",
   "execution_count": null,
   "id": "543400c0",
   "metadata": {},
   "outputs": [],
   "source": [
    "names = ['Vrai Négatif (VN)', 'Faux Positif (FP)','Faux Négatif (FN)', 'Vrai Positif (VP)']\n",
    "counts = [\"{0:0.0f}\\n\".format(value) for value in confusion_matrix(y_train, y_predict_train, normalize=None).flatten()]\n",
    "percentages = [\"{0:.2%}\".format(value) for value in confusion_matrix(y_train, y_predict_train, normalize='true').flatten()]\n",
    "\n",
    "box_labels = [f\"{v1}\\n{v2}{v3}\" for v1, v2, v3 in zip(names, counts, percentages)]\n",
    "box_labels = np.asarray(box_labels).reshape(cm.shape[0],cm.shape[1])\n",
    "\n",
    "plt.figure(figsize=(8,5), dpi=100)\n",
    "\n",
    "plt.title(\"Matrice de confusion (train dataset)\")\n",
    "\n",
    "sns.heatmap(cm,\n",
    "            vmin=0.0,\n",
    "            vmax=1.0,\n",
    "            cmap='Blues',\n",
    "            annot=box_labels,\n",
    "            fmt='',\n",
    "            xticklabels=['Non', 'Oui'],\n",
    "            yticklabels=['Non', 'Oui'])\n",
    "\n",
    "plt.xlabel(\"Valeurs prédites\")\n",
    "plt.ylabel(\"Valeurs réelles\")\n",
    "\n",
    "plt.show()"
   ]
  },
  {
   "cell_type": "code",
   "execution_count": null,
   "id": "8ac6afbb",
   "metadata": {},
   "outputs": [],
   "source": [
    "print(classification_report(y_train, y_predict_train))"
   ]
  },
  {
   "cell_type": "code",
   "execution_count": null,
   "id": "2f432b38",
   "metadata": {},
   "outputs": [],
   "source": [
    "MLPAcc = accuracy_score(y_predict_train,y_train)\n",
    "print('MLP accuracy: {:.2f}%'.format(MLPAcc*100))"
   ]
  },
  {
   "cell_type": "markdown",
   "id": "7b3100b0",
   "metadata": {},
   "source": [
    "### Il faudrait afficher les courbes de roc (accuracy loss) mais dans le cas du gridsearchcv on ne peut pas les afficher car on n'est pas sur keras, y a pas de history, history que sur keras"
   ]
  },
  {
   "cell_type": "markdown",
   "id": "424cc70b",
   "metadata": {},
   "source": [
    "## Predict sur le Test"
   ]
  },
  {
   "cell_type": "code",
   "execution_count": null,
   "id": "46c8d8d1",
   "metadata": {},
   "outputs": [],
   "source": [
    "y_predict_test = gridSearchCV.best_estimator_.predict(scaled_X_test)"
   ]
  },
  {
   "cell_type": "code",
   "execution_count": null,
   "id": "9c5dc918",
   "metadata": {},
   "outputs": [],
   "source": [
    "MLPAcc = accuracy_score(y_test, y_predict_test)\n",
    "print('MLP accuracy: {:.2f}%'.format(MLPAcc*100))"
   ]
  },
  {
   "cell_type": "markdown",
   "id": "b22bfa35",
   "metadata": {},
   "source": [
    "## Matrice de confusion Test"
   ]
  },
  {
   "cell_type": "code",
   "execution_count": null,
   "id": "e09904eb",
   "metadata": {},
   "outputs": [],
   "source": [
    "cm = confusion_matrix(y_test, y_predict_test, normalize='true')"
   ]
  },
  {
   "cell_type": "code",
   "execution_count": null,
   "id": "f6962dc2",
   "metadata": {},
   "outputs": [],
   "source": [
    "names = ['Vrai Négatif (VN)', 'Faux Positif (FP)','Faux Négatif (FN)', 'Vrai Positif (VP)']\n",
    "counts = [\"{0:0.0f}\\n\".format(value) for value in confusion_matrix(y_test, y_predict_test, normalize=None).flatten()]\n",
    "percentages = [\"{0:.2%}\".format(value) for value in confusion_matrix(y_test, y_predict_test, normalize='true').flatten()]\n",
    "\n",
    "box_labels = [f\"{v1}\\n{v2}{v3}\" for v1, v2, v3 in zip(names, counts, percentages)]\n",
    "box_labels = np.asarray(box_labels).reshape(cm.shape[0],cm.shape[1])\n",
    "\n",
    "plt.figure(figsize=(8,5), dpi=100)\n",
    "\n",
    "plt.title(\"Matrice de confusion (test dataset)\")\n",
    "\n",
    "sns.heatmap(cm,\n",
    "            vmin=0.0,\n",
    "            vmax=1.0,\n",
    "            cmap='Blues',\n",
    "            annot=box_labels,\n",
    "            fmt='',\n",
    "            xticklabels=['Non', 'Oui'],\n",
    "            yticklabels=['Non', 'Oui'])\n",
    "\n",
    "plt.xlabel(\"Valeurs prédites\")\n",
    "plt.ylabel(\"Valeurs réelles\")\n",
    "\n",
    "plt.show()"
   ]
  },
  {
   "cell_type": "markdown",
   "id": "74ec418a",
   "metadata": {},
   "source": [
    "# GridSearchCV Random Forest"
   ]
  },
  {
   "cell_type": "code",
   "execution_count": null,
   "id": "640c6d72",
   "metadata": {},
   "outputs": [],
   "source": [
    "rfc=RandomForestClassifier(random_state=42)"
   ]
  },
  {
   "cell_type": "code",
   "execution_count": null,
   "id": "f0b5417c",
   "metadata": {},
   "outputs": [],
   "source": [
    "param_grid = { \n",
    "    'n_estimators': [100, 150, 200, 250, 300, 350, 400, 450, 500],\n",
    "    'max_features': ['auto', 'sqrt', 'log2'],\n",
    "    'max_depth' : [4,5,6,7,8,10],\n",
    "    'criterion' :['gini', 'entropy']\n",
    "}"
   ]
  },
  {
   "cell_type": "code",
   "execution_count": null,
   "id": "211ef8ef",
   "metadata": {},
   "outputs": [],
   "source": [
    "gridSearchCV = GridSearchCV(estimator=rfc, \n",
    "                            param_grid=param_grid, \n",
    "                            n_jobs=-1,\n",
    "                            cv= 3#3 ou 5\n",
    "                           )\n",
    "gridSearchCV.fit(X_train, y_train)"
   ]
  },
  {
   "cell_type": "code",
   "execution_count": null,
   "id": "4d29c730",
   "metadata": {},
   "outputs": [],
   "source": [
    "gridSearchCV.best_params_"
   ]
  },
  {
   "cell_type": "code",
   "execution_count": null,
   "id": "d00b5ea4",
   "metadata": {},
   "outputs": [],
   "source": [
    "res = pd.DataFrame(gridSearchCV.cv_results_).sort_values(by=['rank_test_score'])\n",
    "res"
   ]
  },
  {
   "cell_type": "code",
   "execution_count": null,
   "id": "a0c9dbb4",
   "metadata": {},
   "outputs": [],
   "source": [
    "print(res.loc[1,['params']])"
   ]
  },
  {
   "cell_type": "markdown",
   "id": "7879a9ed",
   "metadata": {},
   "source": [
    "## Evaluation des performances du modèle sur le jeu d'apprentissage"
   ]
  },
  {
   "cell_type": "code",
   "execution_count": null,
   "id": "bd1c39f1",
   "metadata": {},
   "outputs": [],
   "source": [
    "y_predict_train2 = gridSearchCV.best_estimator_.predict(X_train)"
   ]
  },
  {
   "cell_type": "markdown",
   "id": "24bcff3e",
   "metadata": {},
   "source": [
    "## Matrice de confusion Train"
   ]
  },
  {
   "cell_type": "code",
   "execution_count": null,
   "id": "c9c7c3d6",
   "metadata": {},
   "outputs": [],
   "source": [
    "cm = confusion_matrix(y_train, y_predict_train2, normalize='true')"
   ]
  },
  {
   "cell_type": "code",
   "execution_count": null,
   "id": "cb2a911b",
   "metadata": {},
   "outputs": [],
   "source": [
    "names = ['Vrai Négatif (VN)', 'Faux Positif (FP)','Faux Négatif (FN)', 'Vrai Positif (VP)']\n",
    "counts = [\"{0:0.0f}\\n\".format(value) for value in confusion_matrix(y_train, y_predict_train2, normalize=None).flatten()]\n",
    "percentages = [\"{0:.2%}\".format(value) for value in confusion_matrix(y_train, y_predict_train2, normalize='true').flatten()]\n",
    "\n",
    "box_labels = [f\"{v1}\\n{v2}{v3}\" for v1, v2, v3 in zip(names, counts, percentages)]\n",
    "box_labels = np.asarray(box_labels).reshape(cm.shape[0],cm.shape[1])\n",
    "\n",
    "plt.figure(figsize=(8,5), dpi=100)\n",
    "\n",
    "plt.title(\"Matrice de confusion (train dataset)\")\n",
    "\n",
    "sns.heatmap(cm,\n",
    "            vmin=0.0,\n",
    "            vmax=1.0,\n",
    "            cmap='Blues',\n",
    "            annot=box_labels,\n",
    "            fmt='',\n",
    "            xticklabels=['Non', 'Oui'],\n",
    "            yticklabels=['Non', 'Oui'])\n",
    "\n",
    "plt.xlabel(\"Valeurs prédites\")\n",
    "plt.ylabel(\"Valeurs réelles\")\n",
    "\n",
    "plt.show()"
   ]
  },
  {
   "cell_type": "code",
   "execution_count": null,
   "id": "80d2f06f",
   "metadata": {},
   "outputs": [],
   "source": [
    "print(classification_report(y_train, y_predict_train2))"
   ]
  },
  {
   "cell_type": "code",
   "execution_count": null,
   "id": "22325f0e",
   "metadata": {},
   "outputs": [],
   "source": [
    "print(\"Train accuracy for Random Forest on CV data: \",accuracy_score(y_train, y_predict_train2))"
   ]
  },
  {
   "cell_type": "code",
   "execution_count": null,
   "id": "4cb8b6b3",
   "metadata": {},
   "outputs": [],
   "source": [
    "MLPAcc = accuracy_score(y_predict_train2,y_train)\n",
    "print('MLP accuracy: {:.2f}%'.format(MLPAcc*100))"
   ]
  },
  {
   "cell_type": "markdown",
   "id": "2b88c671",
   "metadata": {},
   "source": [
    "## Predict sur le Test"
   ]
  },
  {
   "cell_type": "code",
   "execution_count": null,
   "id": "3529a2a6",
   "metadata": {},
   "outputs": [],
   "source": [
    "y_predict_test2 = gridSearchCV.best_estimator_.predict(X_test)"
   ]
  },
  {
   "cell_type": "code",
   "execution_count": null,
   "id": "fd123af0",
   "metadata": {},
   "outputs": [],
   "source": [
    "MLPAcc = accuracy_score(y_test, y_predict_test2)\n",
    "print('MLP accuracy: {:.2f}%'.format(MLPAcc*100))"
   ]
  },
  {
   "cell_type": "markdown",
   "id": "7181d7e9",
   "metadata": {},
   "source": [
    "## Matrice de confusion Test"
   ]
  },
  {
   "cell_type": "code",
   "execution_count": null,
   "id": "33ba3caa",
   "metadata": {},
   "outputs": [],
   "source": [
    "cm = confusion_matrix(y_test, y_predict_test2, normalize='true')"
   ]
  },
  {
   "cell_type": "code",
   "execution_count": null,
   "id": "e924a8db",
   "metadata": {},
   "outputs": [],
   "source": [
    "names = ['Vrai Négatif (VN)', 'Faux Positif (FP)','Faux Négatif (FN)', 'Vrai Positif (VP)']\n",
    "counts = [\"{0:0.0f}\\n\".format(value) for value in confusion_matrix(y_test, y_predict_test2, normalize=None).flatten()]\n",
    "percentages = [\"{0:.2%}\".format(value) for value in confusion_matrix(y_test, y_predict_test2, normalize='true').flatten()]\n",
    "\n",
    "box_labels = [f\"{v1}\\n{v2}{v3}\" for v1, v2, v3 in zip(names, counts, percentages)]\n",
    "box_labels = np.asarray(box_labels).reshape(cm.shape[0],cm.shape[1])\n",
    "\n",
    "plt.figure(figsize=(8,5), dpi=100)\n",
    "\n",
    "plt.title(\"Matrice de confusion (test dataset)\")\n",
    "\n",
    "sns.heatmap(cm,\n",
    "            vmin=0.0,\n",
    "            vmax=1.0,\n",
    "            cmap='Blues',\n",
    "            annot=box_labels,\n",
    "            fmt='',\n",
    "            xticklabels=['Non', 'Oui'],\n",
    "            yticklabels=['Non', 'Oui'])\n",
    "\n",
    "plt.xlabel(\"Valeurs prédites\")\n",
    "plt.ylabel(\"Valeurs réelles\")\n",
    "\n",
    "plt.show()"
   ]
  },
  {
   "cell_type": "markdown",
   "id": "8fe412b0",
   "metadata": {},
   "source": [
    "# Training model choice"
   ]
  },
  {
   "cell_type": "code",
   "execution_count": null,
   "id": "be2f7e6c",
   "metadata": {},
   "outputs": [],
   "source": [
    "from sklearn.linear_model import LogisticRegression\n",
    "from sklearn.neighbors import KNeighborsClassifier\n",
    "from sklearn.svm import SVC\n",
    "from sklearn.naive_bayes import GaussianNB\n",
    "from sklearn.tree import DecisionTreeClassifier\n",
    "from sklearn.ensemble import RandomForestClassifier\n",
    "from sklearn.model_selection import GridSearchCV, RandomizedSearchCV\n",
    "\n",
    "from sklearn.metrics import mean_squared_error"
   ]
  },
  {
   "cell_type": "markdown",
   "id": "0c5b3b53",
   "metadata": {},
   "source": [
    "## Logistic Regression"
   ]
  },
  {
   "cell_type": "code",
   "execution_count": null,
   "id": "afb2fe27",
   "metadata": {},
   "outputs": [],
   "source": [
    "LRclassifier = LogisticRegression(solver='saga', max_iter=500, random_state=1)\n",
    "LRclassifier.fit(X_train, y_train)\n",
    "\n",
    "y_pred = LRclassifier.predict(X_test)\n",
    "\n",
    "print(classification_report(y_test, y_pred))\n",
    "print(confusion_matrix(y_test, y_pred))\n",
    "\n",
    "from sklearn.metrics import accuracy_score\n",
    "LRAcc = accuracy_score(y_pred,y_test)\n",
    "print('LR accuracy: {:.2f}%'.format(LRAcc*100))"
   ]
  },
  {
   "cell_type": "markdown",
   "id": "faf2c209",
   "metadata": {},
   "source": [
    "## K-Nearest Neighbour (KNN)"
   ]
  },
  {
   "cell_type": "code",
   "execution_count": null,
   "id": "b02b967c",
   "metadata": {},
   "outputs": [],
   "source": [
    "scoreListknn = []\n",
    "for i in range(1,21):\n",
    "    KNclassifier = KNeighborsClassifier(n_neighbors = i)\n",
    "    KNclassifier.fit(scaled_X_train, y_train)\n",
    "    scoreListknn.append(KNclassifier.score(X_test, y_test))\n",
    "    \n",
    "plt.plot(range(1,21), scoreListknn)\n",
    "plt.xticks(np.arange(1,21,1))\n",
    "plt.xlabel(\"K value\")\n",
    "plt.ylabel(\"Score\")\n",
    "plt.show()\n",
    "KNAcc = max(scoreListknn)\n",
    "print(\"KNN best accuracy: {:.2f}%\".format(KNAcc*100))"
   ]
  },
  {
   "cell_type": "markdown",
   "id": "206548f5",
   "metadata": {},
   "source": [
    "## Support Vector Machine (SVM)"
   ]
  },
  {
   "cell_type": "code",
   "execution_count": null,
   "id": "c2cf88f9",
   "metadata": {},
   "outputs": [],
   "source": [
    "SVCclassifier = SVC(kernel='rbf', max_iter=500)\n",
    "SVCclassifier.fit(scaled_X_train, y_train)\n",
    "\n",
    "y_pred = SVCclassifier.predict(X_test)\n",
    "\n",
    "print(classification_report(y_test, y_pred))\n",
    "print(confusion_matrix(y_test, y_pred))\n",
    "\n",
    "from sklearn.metrics import accuracy_score\n",
    "SVCAcc = accuracy_score(y_pred,y_test)\n",
    "print('SVC accuracy: {:.2f}%'.format(SVCAcc*100))"
   ]
  },
  {
   "cell_type": "markdown",
   "id": "4fe67948",
   "metadata": {},
   "source": [
    "## Gaussian NB"
   ]
  },
  {
   "cell_type": "code",
   "execution_count": null,
   "id": "e1229fef",
   "metadata": {},
   "outputs": [],
   "source": [
    "NBclassifier2 = GaussianNB()\n",
    "NBclassifier2.fit(scaled_X_train, y_train)\n",
    "\n",
    "y_pred = NBclassifier2.predict(X_test)\n",
    "\n",
    "print(classification_report(y_test, y_pred))\n",
    "print(confusion_matrix(y_test, y_pred))\n",
    "\n",
    "from sklearn.metrics import accuracy_score\n",
    "NBAcc = accuracy_score(y_pred,y_test)\n",
    "print('Gaussian Naive Bayes accuracy: {:.2f}%'.format(NBAcc*100))"
   ]
  },
  {
   "cell_type": "markdown",
   "id": "ca30faee",
   "metadata": {},
   "source": [
    "## Decision Tree"
   ]
  },
  {
   "cell_type": "code",
   "execution_count": null,
   "id": "1ade0259",
   "metadata": {},
   "outputs": [],
   "source": [
    "scoreListDT = []\n",
    "for i in range(2,21):\n",
    "    DTclassifier = DecisionTreeClassifier(max_leaf_nodes=i)\n",
    "    DTclassifier.fit(scaled_X_train, y_train)\n",
    "    scoreListDT.append(DTclassifier.score(X_test, y_test))\n",
    "    \n",
    "plt.plot(range(2,21), scoreListDT)\n",
    "plt.xticks(np.arange(2,21,1))\n",
    "plt.xlabel(\"Leaf\")\n",
    "plt.ylabel(\"Score\")\n",
    "plt.show()\n",
    "DTAcc = max(scoreListDT)\n",
    "print(\"Decision Tree Accuracy: {:.2f}%\".format(DTAcc*100))"
   ]
  },
  {
   "cell_type": "markdown",
   "id": "08194e38",
   "metadata": {},
   "source": [
    "## Random Forest"
   ]
  },
  {
   "cell_type": "code",
   "execution_count": null,
   "id": "da8f8913",
   "metadata": {},
   "outputs": [],
   "source": [
    "scoreListRF = []\n",
    "for i in range(2,25):\n",
    "    RFclassifier = RandomForestClassifier(n_estimators = 1000, random_state = 1, max_leaf_nodes=i)\n",
    "    RFclassifier.fit(scaled_X_train, y_train)\n",
    "    scoreListRF.append(RFclassifier.score(X_test, y_test))\n",
    "    \n",
    "plt.plot(range(2,25), scoreListRF)\n",
    "plt.xticks(np.arange(2,25,1))\n",
    "plt.xlabel(\"RF Value\")\n",
    "plt.ylabel(\"Score\")\n",
    "plt.show()\n",
    "RFAcc = max(scoreListRF)\n",
    "print(\"Random Forest Accuracy:  {:.2f}%\".format(RFAcc*100))"
   ]
  },
  {
   "cell_type": "markdown",
   "id": "e61a9fe0",
   "metadata": {},
   "source": [
    "## Model Comparaison"
   ]
  },
  {
   "cell_type": "code",
   "execution_count": null,
   "id": "7b6fd1f3",
   "metadata": {},
   "outputs": [],
   "source": [
    "compare = pd.DataFrame({'Model': ['Logistic Regression', 'K Neighbors', 'SVM', \n",
    "                                  'Gaussian NB', 'Decision Tree', 'Random Forest'], \n",
    "                        'Accuracy': [LRAcc*100, KNAcc*100, SVCAcc*100, \n",
    "                                     NBAcc*100,  DTAcc*100, RFAcc*100]})\n",
    "compare.sort_values(by='Accuracy', ascending=False)"
   ]
  },
  {
   "cell_type": "code",
   "execution_count": null,
   "id": "b108b5e8",
   "metadata": {},
   "outputs": [],
   "source": [
    "model = RandomForestClassifier(n_estimators = 1000, random_state = 1, max_leaf_nodes=i)"
   ]
  },
  {
   "cell_type": "code",
   "execution_count": null,
   "id": "1a2e31c9",
   "metadata": {},
   "outputs": [],
   "source": [
    "model.fit(scaled_X_train, y_train)\n",
    "model_retenu=model.predict(X_test)\n",
    "print('mean_squared_error score final:', mean_squared_error(y_test, model.predict(X_test)))"
   ]
  },
  {
   "cell_type": "markdown",
   "id": "6ea5eafe",
   "metadata": {},
   "source": [
    "# Pickle"
   ]
  },
  {
   "cell_type": "code",
   "execution_count": null,
   "id": "9434b039",
   "metadata": {},
   "outputs": [],
   "source": [
    "import pickle\n",
    " \n",
    "# Save the trained model as a pickle string.\n",
    "with open('model.pkl', 'wb') as model_file:\n",
    "    pickle.dump(model_retenu, model_file)"
   ]
  },
  {
   "cell_type": "code",
   "execution_count": null,
   "id": "d8e3583f",
   "metadata": {},
   "outputs": [],
   "source": [
    "X_test"
   ]
  },
  {
   "cell_type": "code",
   "execution_count": null,
   "id": "de77a7bf",
   "metadata": {},
   "outputs": [],
   "source": [
    "test=[[0, 1, 2, 1, 0, 6344443, 4754440, 130, 360, 1, 1]]\n",
    "test=model.predict(test)\n",
    "test"
   ]
  },
  {
   "cell_type": "code",
   "execution_count": null,
   "id": "81820bec",
   "metadata": {},
   "outputs": [],
   "source": []
  }
 ],
 "metadata": {
  "kernelspec": {
   "display_name": "Python 3 (ipykernel)",
   "language": "python",
   "name": "python3"
  },
  "language_info": {
   "codemirror_mode": {
    "name": "ipython",
    "version": 3
   },
   "file_extension": ".py",
   "mimetype": "text/x-python",
   "name": "python",
   "nbconvert_exporter": "python",
   "pygments_lexer": "ipython3",
   "version": "3.9.12"
  }
 },
 "nbformat": 4,
 "nbformat_minor": 5
}
