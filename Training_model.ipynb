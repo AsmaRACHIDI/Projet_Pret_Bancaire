{
 "cells": [
  {
   "cell_type": "code",
   "execution_count": null,
   "id": "6c64819d",
   "metadata": {},
   "outputs": [],
   "source": [
    "import  numpy as np\n",
    "import  pandas as pd\n",
    "import seaborn as sns\n",
    "import matplotlib.pyplot as plt\n",
    "%matplotlib inline"
   ]
  },
  {
   "cell_type": "code",
   "execution_count": null,
   "id": "01ac774e",
   "metadata": {},
   "outputs": [],
   "source": [
    "from sklearn.model_selection import train_test_split\n",
    "\n",
    "from sklearn.preprocessing import StandardScaler\n",
    "from sklearn.neural_network import MLPClassifier\n",
    "from sklearn.model_selection import GridSearchCV\n",
    "from sklearn.metrics import confusion_matrix, classification_report\n",
    "\n",
    "from sklearn import feature_selection\n",
    "from sklearn import model_selection\n",
    "from sklearn.metrics import accuracy_score \n",
    "from sklearn.linear_model import LogisticRegression\n",
    "from sklearn.svm import SVC\n",
    "from sklearn.naive_bayes import GaussianNB\n",
    "from sklearn.ensemble import RandomForestClassifier,GradientBoostingClassifier\n",
    "from sklearn.neighbors import KNeighborsClassifier\n",
    "\n",
    "from sklearn.metrics import f1_score\n",
    "\n",
    "import warnings\n",
    "warnings.filterwarnings('ignore')"
   ]
  },
  {
   "cell_type": "markdown",
   "id": "1fb037e2",
   "metadata": {},
   "source": [
    "# Récupération du dataframe nettoyé"
   ]
  },
  {
   "cell_type": "code",
   "execution_count": null,
   "id": "c49b6b3d",
   "metadata": {},
   "outputs": [],
   "source": [
    "df = pd.read_csv('train_propre.csv')\n",
    "#test = pd.read_csv('test_propre.csv')"
   ]
  },
  {
   "cell_type": "code",
   "execution_count": null,
   "id": "888e6b8f",
   "metadata": {},
   "outputs": [],
   "source": [
    "df.head()"
   ]
  },
  {
   "cell_type": "code",
   "execution_count": null,
   "id": "e393bed8",
   "metadata": {},
   "outputs": [],
   "source": [
    "#test.head()"
   ]
  },
  {
   "cell_type": "code",
   "execution_count": null,
   "id": "57f67ea2",
   "metadata": {},
   "outputs": [],
   "source": [
    "X = df.drop([\"Loan_Status\"], axis=1)\n",
    "X"
   ]
  },
  {
   "cell_type": "code",
   "execution_count": null,
   "id": "fd399c34",
   "metadata": {},
   "outputs": [],
   "source": [
    "X.shape"
   ]
  },
  {
   "cell_type": "code",
   "execution_count": null,
   "id": "6b0f13ca",
   "metadata": {},
   "outputs": [],
   "source": [
    "X.columns"
   ]
  },
  {
   "cell_type": "code",
   "execution_count": null,
   "id": "9cc31c23",
   "metadata": {},
   "outputs": [],
   "source": [
    "y = df[\"Loan_Status\"]\n",
    "y"
   ]
  },
  {
   "cell_type": "code",
   "execution_count": null,
   "id": "e850e92b",
   "metadata": {},
   "outputs": [],
   "source": [
    "y.shape"
   ]
  },
  {
   "cell_type": "markdown",
   "id": "5aeccf2b",
   "metadata": {},
   "source": [
    "# TRAIN/TEST Split"
   ]
  },
  {
   "cell_type": "code",
   "execution_count": null,
   "id": "9d669be9",
   "metadata": {},
   "outputs": [],
   "source": [
    "X_train, X_test, y_train, y_test = train_test_split(X, y, test_size=0.2, random_state=42, shuffle=True)"
   ]
  },
  {
   "cell_type": "code",
   "execution_count": null,
   "id": "25c6932d",
   "metadata": {},
   "outputs": [],
   "source": [
    "plt.figure(figsize=(8,5), dpi=100)\n",
    "plt.title(\"Distribution des données\")\n",
    "plt.hist(y, label=\"jeu total\")\n",
    "plt.hist(y_train, label=\"jeu d'apprentissage\")\n",
    "plt.hist(y_test, label=\"jeu de test\")\n",
    "plt.xlabel(\"Attribution du prêt\")\n",
    "plt.ylabel(\"Nombre d'exemples\")\n",
    "plt.legend()\n",
    "plt.show()"
   ]
  },
  {
   "cell_type": "code",
   "execution_count": null,
   "id": "a33764bd",
   "metadata": {},
   "outputs": [],
   "source": [
    "X_train.shape"
   ]
  },
  {
   "cell_type": "code",
   "execution_count": null,
   "id": "3fd05779",
   "metadata": {},
   "outputs": [],
   "source": [
    "y_train.shape"
   ]
  },
  {
   "cell_type": "code",
   "execution_count": null,
   "id": "5492594f",
   "metadata": {},
   "outputs": [],
   "source": [
    "X_test.shape"
   ]
  },
  {
   "cell_type": "code",
   "execution_count": null,
   "id": "9008ef4a",
   "metadata": {},
   "outputs": [],
   "source": [
    "y_test.shape"
   ]
  },
  {
   "cell_type": "markdown",
   "id": "c9df3158",
   "metadata": {},
   "source": [
    "# Features Scaling \n",
    "\n",
    " transformer les variables continues en utilsant MinMaxScaler\n",
    " \n",
    " https://towardsdatascience.com/what-is-feature-scaling-why-is-it-important-in-machine-learning-2854ae877048\n",
    " \n",
    " https://medium.com/codex/feature-scaling-in-machine-learning-e86b360d1c31"
   ]
  },
  {
   "cell_type": "code",
   "execution_count": null,
   "id": "abd88cb6",
   "metadata": {},
   "outputs": [],
   "source": [
    "scaler = StandardScaler()\n",
    "\n",
    "scaler.fit(X_train)"
   ]
  },
  {
   "cell_type": "code",
   "execution_count": null,
   "id": "e55d2aa1",
   "metadata": {},
   "outputs": [],
   "source": [
    "scaled_X_train = scaler.transform(X_train)\n",
    "scaled_X_test = scaler.transform(X_test)"
   ]
  },
  {
   "cell_type": "code",
   "execution_count": null,
   "id": "2561c2e2",
   "metadata": {},
   "outputs": [],
   "source": [
    "plt.figure(figsize=(16, 10), dpi=100)\n",
    "\n",
    "plt.subplot(1, 2, 1)\n",
    "plt.title('Raw Data')\n",
    "plt.boxplot(X_train)\n",
    "plt.xlabel('Caractéristiques')\n",
    "\n",
    "plt.subplot(1, 2, 2)\n",
    "plt.title('Scaled Data')\n",
    "plt.boxplot(scaled_X_train)\n",
    "plt.xlabel('Caractéristiques')\n",
    "\n",
    "plt.show()"
   ]
  },
  {
   "cell_type": "markdown",
   "id": "d1eeb5e0",
   "metadata": {},
   "source": [
    "# GridSearchCV MLPClassifier (perceptron)"
   ]
  },
  {
   "cell_type": "code",
   "execution_count": null,
   "id": "721366bd",
   "metadata": {},
   "outputs": [],
   "source": [
    "hyperparameters = {'hidden_layer_sizes': [(1,), (3,), (5,), (7,)], 'activation': ['logistic', 'tanh', 'relu']}"
   ]
  },
  {
   "cell_type": "code",
   "execution_count": null,
   "id": "4fa1135a",
   "metadata": {},
   "outputs": [],
   "source": [
    "model = MLPClassifier(solver='lbfgs', alpha=0.0001, max_iter=10000, random_state=0, max_fun=15000)"
   ]
  },
  {
   "cell_type": "code",
   "execution_count": null,
   "id": "b505c48e",
   "metadata": {},
   "outputs": [],
   "source": [
    "gridSearchCV = GridSearchCV(model,\n",
    "                            hyperparameters,\n",
    "                            n_jobs=-1,\n",
    "                            refit=True,\n",
    "                            cv=3,\n",
    "                            return_train_score=True,\n",
    "                            scoring=f1_score)\n",
    "\n",
    "gridSearchCV.fit(scaled_X_train, y_train)"
   ]
  },
  {
   "cell_type": "code",
   "execution_count": null,
   "id": "cc8fdd57",
   "metadata": {},
   "outputs": [],
   "source": [
    "gridSearchCV.best_params_"
   ]
  },
  {
   "cell_type": "code",
   "execution_count": null,
   "id": "041d3afc",
   "metadata": {},
   "outputs": [],
   "source": [
    "pd.DataFrame(gridSearchCV.cv_results_).sort_values(by=['rank_test_score'])"
   ]
  },
  {
   "cell_type": "markdown",
   "id": "5d783236",
   "metadata": {},
   "source": [
    "- rank_test_score : je vais prendre rank à 1 et tester avec les deux fonctions d'activation relu et tanh\n",
    "- mean_train_score : 0.86 et 0.83\n",
    "- mean_test_score : 0.82 et 0.80\n",
    "- Le meilleur c'est de prendre train et test avec le moins d'écart"
   ]
  },
  {
   "cell_type": "markdown",
   "id": "8000224a",
   "metadata": {},
   "source": [
    "## Evaluation des performances du modèle sur le jeu d'apprentissage"
   ]
  },
  {
   "cell_type": "code",
   "execution_count": null,
   "id": "f55588fd",
   "metadata": {},
   "outputs": [],
   "source": [
    "y_predict_train = gridSearchCV.best_estimator_.predict(scaled_X_train)"
   ]
  },
  {
   "cell_type": "markdown",
   "id": "f2f0bc6b",
   "metadata": {},
   "source": [
    "## Matrice de confusion Train"
   ]
  },
  {
   "cell_type": "code",
   "execution_count": null,
   "id": "9f35537a",
   "metadata": {},
   "outputs": [],
   "source": [
    "cm = confusion_matrix(y_train, y_predict_train, normalize='true')"
   ]
  },
  {
   "cell_type": "code",
   "execution_count": null,
   "id": "543400c0",
   "metadata": {},
   "outputs": [],
   "source": [
    "names = ['Vrai Négatif (VN)', 'Faux Positif (FP)','Faux Négatif (FN)', 'Vrai Positif (VP)']\n",
    "counts = [\"{0:0.0f}\\n\".format(value) for value in confusion_matrix(y_train, y_predict_train, normalize=None).flatten()]\n",
    "percentages = [\"{0:.2%}\".format(value) for value in confusion_matrix(y_train, y_predict_train, normalize='true').flatten()]\n",
    "\n",
    "box_labels = [f\"{v1}\\n{v2}{v3}\" for v1, v2, v3 in zip(names, counts, percentages)]\n",
    "box_labels = np.asarray(box_labels).reshape(cm.shape[0],cm.shape[1])\n",
    "\n",
    "plt.figure(figsize=(8,5), dpi=100)\n",
    "\n",
    "plt.title(\"Matrice de confusion (train dataset)\")\n",
    "\n",
    "sns.heatmap(cm,\n",
    "            vmin=0.0,\n",
    "            vmax=1.0,\n",
    "            cmap='Blues',\n",
    "            annot=box_labels,\n",
    "            fmt='',\n",
    "            xticklabels=['Non', 'Oui'],\n",
    "            yticklabels=['Non', 'Oui'])\n",
    "\n",
    "plt.xlabel(\"Valeurs prédites\")\n",
    "plt.ylabel(\"Valeurs réelles\")\n",
    "\n",
    "plt.show()"
   ]
  },
  {
   "cell_type": "code",
   "execution_count": null,
   "id": "8ac6afbb",
   "metadata": {},
   "outputs": [],
   "source": [
    "print(classification_report(y_train, y_predict_train))"
   ]
  },
  {
   "cell_type": "code",
   "execution_count": null,
   "id": "2f432b38",
   "metadata": {},
   "outputs": [],
   "source": [
    "MLPAcc = accuracy_score(y_predict_train,y_train)\n",
    "print('MLP accuracy: {:.2f}%'.format(MLPAcc*100))"
   ]
  },
  {
   "cell_type": "markdown",
   "id": "7b3100b0",
   "metadata": {},
   "source": [
    "### Il faudrait afficher les courbes de roc (accuracy loss) mais dans le cas du gridsearchcv on ne peut pas les afficher car on n'est pas sur keras, y a pas de history, history que sur keras"
   ]
  },
  {
   "cell_type": "markdown",
   "id": "424cc70b",
   "metadata": {},
   "source": [
    "## Predict sur le Test"
   ]
  },
  {
   "cell_type": "code",
   "execution_count": null,
   "id": "46c8d8d1",
   "metadata": {},
   "outputs": [],
   "source": [
    "y_predict_test = gridSearchCV.best_estimator_.predict(scaled_X_test)"
   ]
  },
  {
   "cell_type": "code",
   "execution_count": null,
   "id": "9c5dc918",
   "metadata": {},
   "outputs": [],
   "source": [
    "MLPAcc = accuracy_score(y_test, y_predict_test)\n",
    "print('MLP accuracy: {:.2f}%'.format(MLPAcc*100))"
   ]
  },
  {
   "cell_type": "markdown",
   "id": "b22bfa35",
   "metadata": {},
   "source": [
    "## Matrice de confusion Test"
   ]
  },
  {
   "cell_type": "code",
   "execution_count": null,
   "id": "e09904eb",
   "metadata": {},
   "outputs": [],
   "source": [
    "cm = confusion_matrix(y_test, y_predict_test, normalize='true')"
   ]
  },
  {
   "cell_type": "code",
   "execution_count": null,
   "id": "f6962dc2",
   "metadata": {},
   "outputs": [],
   "source": [
    "names = ['Vrai Négatif (VN)', 'Faux Positif (FP)','Faux Négatif (FN)', 'Vrai Positif (VP)']\n",
    "counts = [\"{0:0.0f}\\n\".format(value) for value in confusion_matrix(y_test, y_predict_test, normalize=None).flatten()]\n",
    "percentages = [\"{0:.2%}\".format(value) for value in confusion_matrix(y_test, y_predict_test, normalize='true').flatten()]\n",
    "\n",
    "box_labels = [f\"{v1}\\n{v2}{v3}\" for v1, v2, v3 in zip(names, counts, percentages)]\n",
    "box_labels = np.asarray(box_labels).reshape(cm.shape[0],cm.shape[1])\n",
    "\n",
    "plt.figure(figsize=(8,5), dpi=100)\n",
    "\n",
    "plt.title(\"Matrice de confusion (test dataset)\")\n",
    "\n",
    "sns.heatmap(cm,\n",
    "            vmin=0.0,\n",
    "            vmax=1.0,\n",
    "            cmap='Blues',\n",
    "            annot=box_labels,\n",
    "            fmt='',\n",
    "            xticklabels=['Non', 'Oui'],\n",
    "            yticklabels=['Non', 'Oui'])\n",
    "\n",
    "plt.xlabel(\"Valeurs prédites\")\n",
    "plt.ylabel(\"Valeurs réelles\")\n",
    "\n",
    "plt.show()"
   ]
  },
  {
   "cell_type": "markdown",
   "id": "74ec418a",
   "metadata": {},
   "source": [
    "# GridSearchCV Random Forest"
   ]
  },
  {
   "cell_type": "code",
   "execution_count": null,
   "id": "640c6d72",
   "metadata": {},
   "outputs": [],
   "source": [
    "rfc=RandomForestClassifier(random_state=42)"
   ]
  },
  {
   "cell_type": "code",
   "execution_count": null,
   "id": "f0b5417c",
   "metadata": {},
   "outputs": [],
   "source": [
    "param_grid = { \n",
    "    'n_estimators': [100, 150, 200, 250, 300, 350, 400, 450, 500],\n",
    "    'max_features': ['auto', 'sqrt', 'log2'],\n",
    "    'max_depth' : [4,5,6,7,8,10],\n",
    "    'criterion' :['gini', 'entropy']\n",
    "}"
   ]
  },
  {
   "cell_type": "code",
   "execution_count": null,
   "id": "211ef8ef",
   "metadata": {},
   "outputs": [],
   "source": [
    "gridSearchCV2 = GridSearchCV(estimator=rfc, \n",
    "                            param_grid=param_grid, \n",
    "                            n_jobs=-1,\n",
    "                            cv= 3 #3 ou 5\n",
    "                           )\n",
    "gridSearchCV2.fit(X_train, y_train)"
   ]
  },
  {
   "cell_type": "code",
   "execution_count": null,
   "id": "4d29c730",
   "metadata": {},
   "outputs": [],
   "source": [
    "gridSearchCV2.best_params_"
   ]
  },
  {
   "cell_type": "code",
   "execution_count": null,
   "id": "974d78df",
   "metadata": {},
   "outputs": [],
   "source": [
    "res = pd.DataFrame(gridSearchCV2.cv_results_).sort_values(by=['rank_test_score'])\n",
    "res"
   ]
  },
  {
   "cell_type": "code",
   "execution_count": null,
   "id": "9049659c",
   "metadata": {},
   "outputs": [],
   "source": [
    "print(res.loc[1,['params']])"
   ]
  },
  {
   "cell_type": "markdown",
   "id": "b6799fa3",
   "metadata": {},
   "source": [
    "## Evaluation des performances du modèle sur le jeu d'apprentissage"
   ]
  },
  {
   "cell_type": "code",
   "execution_count": null,
   "id": "0f32332a",
   "metadata": {},
   "outputs": [],
   "source": [
    "y_predict_train2 = gridSearchCV2.best_estimator_.predict(X_train)"
   ]
  },
  {
   "cell_type": "markdown",
   "id": "dbb3a62f",
   "metadata": {},
   "source": [
    "## Matrice de confusion Train"
   ]
  },
  {
   "cell_type": "code",
   "execution_count": null,
   "id": "b747b00f",
   "metadata": {},
   "outputs": [],
   "source": [
    "cm2 = confusion_matrix(y_train, y_predict_train2, normalize='true')"
   ]
  },
  {
   "cell_type": "code",
   "execution_count": null,
   "id": "69763021",
   "metadata": {},
   "outputs": [],
   "source": [
    "names = ['Vrai Négatif (VN)', 'Faux Positif (FP)','Faux Négatif (FN)', 'Vrai Positif (VP)']\n",
    "counts = [\"{0:0.0f}\\n\".format(value) for value in confusion_matrix(y_train, y_predict_train2, normalize=None).flatten()]\n",
    "percentages = [\"{0:.2%}\".format(value) for value in confusion_matrix(y_train, y_predict_train2, normalize='true').flatten()]\n",
    "\n",
    "box_labels = [f\"{v1}\\n{v2}{v3}\" for v1, v2, v3 in zip(names, counts, percentages)]\n",
    "box_labels = np.asarray(box_labels).reshape(cm2.shape[0],cm2.shape[1])\n",
    "\n",
    "plt.figure(figsize=(8,5), dpi=100)\n",
    "\n",
    "plt.title(\"Matrice de confusion (train dataset)\")\n",
    "\n",
    "sns.heatmap(cm2,\n",
    "            vmin=0.0,\n",
    "            vmax=1.0,\n",
    "            cmap='Blues',\n",
    "            annot=box_labels,\n",
    "            fmt='',\n",
    "            xticklabels=['Non', 'Oui'],\n",
    "            yticklabels=['Non', 'Oui'])\n",
    "\n",
    "plt.xlabel(\"Valeurs prédites\")\n",
    "plt.ylabel(\"Valeurs réelles\")\n",
    "\n",
    "plt.show()"
   ]
  },
  {
   "cell_type": "code",
   "execution_count": null,
   "id": "6a7a885a",
   "metadata": {},
   "outputs": [],
   "source": [
    "print(classification_report(y_train, y_predict_train2))"
   ]
  },
  {
   "cell_type": "code",
   "execution_count": null,
   "id": "22325f0e",
   "metadata": {},
   "outputs": [],
   "source": [
    "print(\"Train accuracy for Random Forest on CV data: \",accuracy_score(y_train, y_predict_train2))"
   ]
  },
  {
   "cell_type": "code",
   "execution_count": null,
   "id": "5012069b",
   "metadata": {},
   "outputs": [],
   "source": [
    "MLPAcc = accuracy_score(y_predict_train2,y_train)\n",
    "print('MLP accuracy: {:.2f}%'.format(MLPAcc*100))"
   ]
  },
  {
   "cell_type": "markdown",
   "id": "e09b6cf7",
   "metadata": {},
   "source": [
    "## Predict sur le Test"
   ]
  },
  {
   "cell_type": "code",
   "execution_count": null,
   "id": "4bfa72e2",
   "metadata": {},
   "outputs": [],
   "source": [
    "y_predict_test2 = gridSearchCV2.best_estimator_.predict(X_test)"
   ]
  },
  {
   "cell_type": "code",
   "execution_count": null,
   "id": "ce1330db",
   "metadata": {},
   "outputs": [],
   "source": [
    "MLPAcc = accuracy_score(y_test, y_predict_test2)\n",
    "print('MLP accuracy: {:.2f}%'.format(MLPAcc*100))"
   ]
  },
  {
   "cell_type": "markdown",
   "id": "efc8f7a2",
   "metadata": {},
   "source": [
    "## Matrice de confusion Test"
   ]
  },
  {
   "cell_type": "code",
   "execution_count": null,
   "id": "8f12e12e",
   "metadata": {},
   "outputs": [],
   "source": [
    "cm2 = confusion_matrix(y_test, y_predict_test2, normalize='true')"
   ]
  },
  {
   "cell_type": "code",
   "execution_count": null,
   "id": "9b29e0b1",
   "metadata": {},
   "outputs": [],
   "source": [
    "names = ['Vrai Négatif (VN)', 'Faux Positif (FP)','Faux Négatif (FN)', 'Vrai Positif (VP)']\n",
    "counts = [\"{0:0.0f}\\n\".format(value) for value in confusion_matrix(y_test, y_predict_test2, normalize=None).flatten()]\n",
    "percentages = [\"{0:.2%}\".format(value) for value in confusion_matrix(y_test, y_predict_test2, normalize='true').flatten()]\n",
    "\n",
    "box_labels = [f\"{v1}\\n{v2}{v3}\" for v1, v2, v3 in zip(names, counts, percentages)]\n",
    "box_labels = np.asarray(box_labels).reshape(cm2.shape[0],cm2.shape[1])\n",
    "\n",
    "plt.figure(figsize=(8,5), dpi=100)\n",
    "\n",
    "plt.title(\"Matrice de confusion (test dataset)\")\n",
    "\n",
    "sns.heatmap(cm2,\n",
    "            vmin=0.0,\n",
    "            vmax=1.0,\n",
    "            cmap='Blues',\n",
    "            annot=box_labels,\n",
    "            fmt='',\n",
    "            xticklabels=['Non', 'Oui'],\n",
    "            yticklabels=['Non', 'Oui'])\n",
    "\n",
    "plt.xlabel(\"Valeurs prédites\")\n",
    "plt.ylabel(\"Valeurs réelles\")\n",
    "\n",
    "plt.show()"
   ]
  },
  {
   "cell_type": "markdown",
   "id": "8fe412b0",
   "metadata": {},
   "source": [
    "# Training model choice"
   ]
  },
  {
   "cell_type": "code",
   "execution_count": null,
   "id": "be2f7e6c",
   "metadata": {},
   "outputs": [],
   "source": [
    "from sklearn.linear_model import LogisticRegression\n",
    "from sklearn.neighbors import KNeighborsClassifier\n",
    "from sklearn.svm import SVC\n",
    "from sklearn.naive_bayes import GaussianNB\n",
    "from sklearn.tree import DecisionTreeClassifier\n",
    "from sklearn.ensemble import RandomForestClassifier\n",
    "from sklearn.model_selection import GridSearchCV, RandomizedSearchCV\n",
    "\n",
    "from sklearn.metrics import mean_squared_error"
   ]
  },
  {
   "cell_type": "markdown",
   "id": "0c5b3b53",
   "metadata": {},
   "source": [
    "## Logistic Regression"
   ]
  },
  {
   "cell_type": "code",
   "execution_count": null,
   "id": "afb2fe27",
   "metadata": {},
   "outputs": [],
   "source": [
    "LRclassifier = LogisticRegression(solver='saga', max_iter=500, random_state=1)\n",
    "LRclassifier.fit(X_train, y_train)\n",
    "\n",
    "y_pred = LRclassifier.predict(X_test)\n",
    "\n",
    "print(classification_report(y_test, y_pred))\n",
    "print(confusion_matrix(y_test, y_pred))\n",
    "\n",
    "from sklearn.metrics import accuracy_score\n",
    "LRAcc = accuracy_score(y_pred,y_test)\n",
    "print('LR accuracy: {:.2f}%'.format(LRAcc*100))"
   ]
  },
  {
   "cell_type": "markdown",
   "id": "faf2c209",
   "metadata": {},
   "source": [
    "## K-Nearest Neighbour (KNN)"
   ]
  },
  {
   "cell_type": "code",
   "execution_count": null,
   "id": "b02b967c",
   "metadata": {},
   "outputs": [],
   "source": [
    "scoreListknn = []\n",
    "for i in range(1,21):\n",
    "    KNclassifier = KNeighborsClassifier(n_neighbors = i)\n",
    "    KNclassifier.fit(scaled_X_train, y_train)\n",
    "    scoreListknn.append(KNclassifier.score(X_test, y_test))\n",
    "    \n",
    "plt.plot(range(1,21), scoreListknn)\n",
    "plt.xticks(np.arange(1,21,1))\n",
    "plt.xlabel(\"K value\")\n",
    "plt.ylabel(\"Score\")\n",
    "plt.show()\n",
    "KNAcc = max(scoreListknn)\n",
    "print(\"KNN best accuracy: {:.2f}%\".format(KNAcc*100))"
   ]
  },
  {
   "cell_type": "markdown",
   "id": "206548f5",
   "metadata": {},
   "source": [
    "## Support Vector Machine (SVM)"
   ]
  },
  {
   "cell_type": "code",
   "execution_count": null,
   "id": "c2cf88f9",
   "metadata": {},
   "outputs": [],
   "source": [
    "SVCclassifier = SVC(kernel='rbf', max_iter=500)\n",
    "SVCclassifier.fit(scaled_X_train, y_train)\n",
    "\n",
    "y_pred = SVCclassifier.predict(X_test)\n",
    "\n",
    "print(classification_report(y_test, y_pred))\n",
    "print(confusion_matrix(y_test, y_pred))\n",
    "\n",
    "from sklearn.metrics import accuracy_score\n",
    "SVCAcc = accuracy_score(y_pred,y_test)\n",
    "print('SVC accuracy: {:.2f}%'.format(SVCAcc*100))"
   ]
  },
  {
   "cell_type": "markdown",
   "id": "4fe67948",
   "metadata": {},
   "source": [
    "## Gaussian NB"
   ]
  },
  {
   "cell_type": "code",
   "execution_count": null,
   "id": "e1229fef",
   "metadata": {},
   "outputs": [],
   "source": [
    "NBclassifier2 = GaussianNB()\n",
    "NBclassifier2.fit(scaled_X_train, y_train)\n",
    "\n",
    "y_pred = NBclassifier2.predict(X_test)\n",
    "\n",
    "print(classification_report(y_test, y_pred))\n",
    "print(confusion_matrix(y_test, y_pred))\n",
    "\n",
    "from sklearn.metrics import accuracy_score\n",
    "NBAcc = accuracy_score(y_pred,y_test)\n",
    "print('Gaussian Naive Bayes accuracy: {:.2f}%'.format(NBAcc*100))"
   ]
  },
  {
   "cell_type": "markdown",
   "id": "ca30faee",
   "metadata": {},
   "source": [
    "## Decision Tree"
   ]
  },
  {
   "cell_type": "code",
   "execution_count": null,
   "id": "1ade0259",
   "metadata": {},
   "outputs": [],
   "source": [
    "scoreListDT = []\n",
    "for i in range(2,21):\n",
    "    DTclassifier = DecisionTreeClassifier(max_leaf_nodes=i)\n",
    "    DTclassifier.fit(scaled_X_train, y_train)\n",
    "    scoreListDT.append(DTclassifier.score(X_test, y_test))\n",
    "    \n",
    "plt.plot(range(2,21), scoreListDT)\n",
    "plt.xticks(np.arange(2,21,1))\n",
    "plt.xlabel(\"Leaf\")\n",
    "plt.ylabel(\"Score\")\n",
    "plt.show()\n",
    "DTAcc = max(scoreListDT)\n",
    "print(\"Decision Tree Accuracy: {:.2f}%\".format(DTAcc*100))"
   ]
  },
  {
   "cell_type": "markdown",
   "id": "08194e38",
   "metadata": {},
   "source": [
    "## Random Forest"
   ]
  },
  {
   "cell_type": "code",
   "execution_count": null,
   "id": "da8f8913",
   "metadata": {},
   "outputs": [],
   "source": [
    "scoreListRF = []\n",
    "for i in range(2,25):\n",
    "    RFclassifier = RandomForestClassifier(n_estimators = 1000, random_state = 1, max_leaf_nodes=i)\n",
    "    RFclassifier.fit(scaled_X_train, y_train)\n",
    "    scoreListRF.append(RFclassifier.score(X_test, y_test))\n",
    "    \n",
    "plt.plot(range(2,25), scoreListRF)\n",
    "plt.xticks(np.arange(2,25,1))\n",
    "plt.xlabel(\"RF Value\")\n",
    "plt.ylabel(\"Score\")\n",
    "plt.show()\n",
    "RFAcc = max(scoreListRF)\n",
    "print(\"Random Forest Accuracy:  {:.2f}%\".format(RFAcc*100))"
   ]
  },
  {
   "cell_type": "markdown",
   "id": "e61a9fe0",
   "metadata": {},
   "source": [
    "## Model Comparaison"
   ]
  },
  {
   "cell_type": "code",
   "execution_count": null,
   "id": "7b6fd1f3",
   "metadata": {},
   "outputs": [],
   "source": [
    "compare = pd.DataFrame({'Model': ['Logistic Regression', 'K Neighbors', 'SVM', \n",
    "                                  'Gaussian NB', 'Decision Tree', 'Random Forest'], \n",
    "                        'Accuracy': [LRAcc*100, KNAcc*100, SVCAcc*100, \n",
    "                                     NBAcc*100,  DTAcc*100, RFAcc*100]})\n",
    "compare.sort_values(by='Accuracy', ascending=False)"
   ]
  },
  {
   "cell_type": "code",
   "execution_count": null,
   "id": "b108b5e8",
   "metadata": {},
   "outputs": [],
   "source": [
    "model = RandomForestClassifier(n_estimators = 1000, random_state = 1, max_leaf_nodes=i)"
   ]
  },
  {
   "cell_type": "code",
   "execution_count": null,
   "id": "1a2e31c9",
   "metadata": {},
   "outputs": [],
   "source": [
    "model.fit(scaled_X_train, y_train)\n",
    "model=model.predict(X_test)"
   ]
  },
  {
   "cell_type": "markdown",
   "id": "6ea5eafe",
   "metadata": {},
   "source": [
    "# Pickle"
   ]
  },
  {
   "cell_type": "markdown",
   "id": "6caba86c",
   "metadata": {},
   "source": [
    "- On garde le RandomForestClassifier du GridSearchCV"
   ]
  },
  {
   "cell_type": "code",
   "execution_count": null,
   "id": "de57d94a",
   "metadata": {},
   "outputs": [],
   "source": [
    "model_retenu = gridSearchCV2.best_estimator_.predict(X_test)"
   ]
  },
  {
   "cell_type": "code",
   "execution_count": null,
   "id": "9434b039",
   "metadata": {},
   "outputs": [],
   "source": [
    "import pickle\n",
    " \n",
    "# Save the trained model as a pickle string.\n",
    "with open('model_Final.pkl', 'wb') as model_file:\n",
    "    pickle.dump(model_retenu, model_file)"
   ]
  },
  {
   "cell_type": "code",
   "execution_count": null,
   "id": "d8e3583f",
   "metadata": {},
   "outputs": [],
   "source": [
    "X_test"
   ]
  },
  {
   "cell_type": "code",
   "execution_count": null,
   "id": "de77a7bf",
   "metadata": {},
   "outputs": [],
   "source": [
    "test=[[0, 1, 2, 1, 0, 6344443, 4754440, 130, 360, 1, 1]]\n",
    "#test=model.predict(test)\n",
    "test=gridSearchCV2.best_estimator_.predict(test)\n",
    "test"
   ]
  },
  {
   "cell_type": "code",
   "execution_count": null,
   "id": "81820bec",
   "metadata": {},
   "outputs": [],
   "source": []
  }
 ],
 "metadata": {
  "kernelspec": {
   "display_name": "Python 3 (ipykernel)",
   "language": "python",
   "name": "python3"
  },
  "language_info": {
   "codemirror_mode": {
    "name": "ipython",
    "version": 3
   },
   "file_extension": ".py",
   "mimetype": "text/x-python",
   "name": "python",
   "nbconvert_exporter": "python",
   "pygments_lexer": "ipython3",
   "version": "3.9.12"
  }
 },
 "nbformat": 4,
 "nbformat_minor": 5
}
