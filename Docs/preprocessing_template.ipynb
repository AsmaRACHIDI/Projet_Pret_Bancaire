{
 "cells": [
  {
   "cell_type": "markdown",
   "metadata": {
    "id": "cVeHrSMSAC3M"
   },
   "source": [
    "# Data Preprocessing Template\n",
    "\n"
   ]
  },
  {
   "cell_type": "markdown",
   "metadata": {
    "id": "4P4jeIZsAC3V"
   },
   "source": [
    "- [1- Importer les Libraries de dépendance](#Importer-les-libraries)\n",
    "- [2- Collecte de données](#C)\n",
    "- [3- Nettoyer les données](#N)\n",
    "    - [Nettoyer le jeu de données avec Pandas (forme)](#N)\n",
    "        - [Charger les données (Retrait de lignes/colonnes non nécessaires, en utilisant les options de la fonction de lecture)](#s)\n",
    "        - [Renommer les colonnes si besoin ](#I)\n",
    "        - [S'assurer que les valeurs ont le bon format/type](#)\n",
    "    - [Gérer les valeurs manquantes](#H)\n",
    "        - [filtrer/retirer les valeurs manquantes (Attention dropna() possède plusieurs arguments, permettant de moduler le niveau de filtrage des valeurs manquantes](#)\n",
    "        - [Remplacer les valeurs manquantes par imputation (remplacer avec fillna() des valeurs manquantes par 0 ou par la moyenne de la colonne, de la ligne ou toute autre sous-partie du dataframe](#)\n",
    "    - [Retirer les données dupliquées](#)\n",
    "    - [Nettoyage de la structure](#P)\n",
    "        - [Gestion des dates](#B)\n",
    "        - [Gestion des problèmes de saisie de données incohérentes (majuscule/minuscule...)](#S)\n",
    "- [4- Gestion des données catégrielles](#P)\n",
    "    - [ Identifier les variables catégorielle (nominal (sans relation entre elles (couleurs..)), ordinal (avec une relation (catégories de notes: MTS,MS,MI..))](#S)\n",
    "    - [Gérer les variables catégorielle](#A)\n",
    "-[5- Analyse Exploratoire de Données (EDA)](#A)"
   ]
  },
  {
   "cell_type": "markdown",
   "metadata": {
    "id": "PGWwhOdpAC3W"
   },
   "source": [
    "# Import_Libraries"
   ]
  },
  {
   "cell_type": "code",
   "execution_count": null,
   "metadata": {
    "id": "ZzXFBWmTAC3X"
   },
   "outputs": [],
   "source": []
  },
  {
   "cell_type": "markdown",
   "metadata": {
    "id": "Ckb9jif5AC3i"
   },
   "source": [
    "# Nettoyer le jeu de données avec Pandas"
   ]
  },
  {
   "cell_type": "markdown",
   "metadata": {
    "id": "c1CANetsAC3j"
   },
   "source": [
    "## charger \n",
    "\n",
    "\n",
    "\n",
    "\n",
    "\n",
    "\n",
    "![image.png](attachment:image.png)\n"
   ]
  },
  {
   "cell_type": "code",
   "execution_count": null,
   "metadata": {
    "id": "dofXsf8zAC3k"
   },
   "outputs": [],
   "source": []
  },
  {
   "cell_type": "markdown",
   "metadata": {
    "id": "YrMyxnVfAC3l"
   },
   "source": [
    "### 1.1 Charger les données (Retrait de lignes/colonnes non nécessaires, en utilisant les options de la fonction de lecture)"
   ]
  },
  {
   "cell_type": "markdown",
   "metadata": {
    "id": "V-f1SSPmAC3m"
   },
   "source": [
    "#### 1.2 Renommer les colonnes si besoin \n",
    "* renommer les colonnes en fr"
   ]
  },
  {
   "cell_type": "code",
   "execution_count": null,
   "metadata": {
    "id": "kLQ0GVN3BYfE"
   },
   "outputs": [],
   "source": []
  },
  {
   "cell_type": "markdown",
   "metadata": {
    "id": "hcdoItVjAC3n"
   },
   "source": [
    "### 1.3 S'assurer que les valeurs ont le bon format/type "
   ]
  },
  {
   "cell_type": "markdown",
   "metadata": {
    "id": "cixrs2_PAC3p"
   },
   "source": [
    "### 1.4 Gérer les valeurs manquantes \n",
    "#### filtrer/retirer les valeurs manquantes (Attention dropna() possède plusieurs arguments, permettant de moduler le niveau de filtrage des valeurs manquantes\n",
    "#### Remplacer les valeurs manquantes par imputation (remplacer avec fillna() des valeurs manquantes par 0 ou par la moyenne de la colonne, de la ligne ou toute autre sous-partie du dataframe"
   ]
  },
  {
   "cell_type": "code",
   "execution_count": null,
   "metadata": {
    "id": "qrCVf3ZtAC3p"
   },
   "outputs": [],
   "source": []
  },
  {
   "cell_type": "markdown",
   "metadata": {
    "id": "9CC7-vEmAC3q"
   },
   "source": [
    "### 1.5 Retirer les données dupliquées"
   ]
  },
  {
   "cell_type": "markdown",
   "metadata": {
    "id": "E-pmLL_HAC3r"
   },
   "source": [
    "## 2- Transformations du jeu de données\n",
    "\n",
    "Après le nettoyage de la forme on passe au nettoyage de la structure\n",
    "\n",
    "Pour cela il est important de rappeler les 3 règles qui définissent un jeu de données \"propre et ordonné\" :\n",
    "\n",
    "* Chaque variable représente une unique colonne et contient des valeurs\n",
    "* Chaque observation forme une ligne\n",
    "* Chaque type d'unité d'observation représente un dataframe\n",
    "\n",
    "Rappels de quelques définitions :\n",
    "\n",
    "* variable : intitulé d'une mesure ou d'un attribut. ex : taille, poids, sexe, etc.\n",
    "* valeur : la mesure ou l'attribut en question. ex : 152 cm, 80 kg, femme, etc.\n",
    "* observation : toutes les entitées mesurées sur la même unité. ex : chaque personne.\n",
    "\n",
    "Exemple de nettoyage de structure:\n",
    "    * Les intitulés des colonnes sont des valeurs et pas des noms\n",
    "    * Plusieurs variables sont stockées dans une colonne\n",
    "    * Certaines variables sont stockées à la fois dans des lignes et des colonnes\n",
    "    * Un même type d'unité d'observation est stocké dans différents dataframes\n",
    "    * ...\n",
    "    \n",
    "### 2.1 Gestion des dates\n",
    "\n",
    "### 2.2 Gestion des problèmes de saisie de données incohérentes (majuscule/minuscule...)\n",
    "\n"
   ]
  },
  {
   "cell_type": "markdown",
   "metadata": {
    "id": "ZQVmtP9JAC3s"
   },
   "source": [
    "\n",
    "## 3 Gestion des données catégrielles\n",
    "\n",
    "### 3.1 Identifier les variables catégorielle (nominal (sans relation entre elles (couleurs..)), ordinal (avec une relation (catégories de notes: MTS,MS,MI..))\n",
    "### 3.2 Gérer les variables catégorielle:\n",
    "    * Remplacer à l’aide de la fonction map() => Ce n’est pas une bonne approche quand il s’agit de grand nbre de catégories.\n",
    "    \n",
    "    * Label Encoding => Label Encoding peut numéroter de manière unique les différentes catégories de 0 à n-1.\n",
    "                    => LabelEncoder ne peut pas gérer les valeurs manquantes, il est donc important de les imputer. il peut être utilisé pour stocker des valeurs en utilisant moins d’espace disque. ça fonctionne bien sur les algorithmes basés sur des arbres mais pas pour les modèles linéaires, les SVM ou les réseaux de neurones car leurs données doivent être normalisées..\n",
    "    \n",
    "    * One Hot Encoding=> un codage binaire appliqué à des valeurs catégorielles, Pandas get_dummies() convertit les variables catégorielles en variables fictives/indicatrices (Les variables binaires sont souvent appelées « variables fictives) => il surmonte les limites du Label Encoding et peut être utilisé dans des algorithmes d’apprentissage automatique basés sur des arbres et non basés sur des arbres. L’inconvénient est que pour une cardinalité élevée, l’espace des caractéristiques peut vraiment exploser rapidement.\n",
    "    \n",
    "    * Label Binarizer: binary encoding aussi\n",
    "                    \n",
    "voir : https://towardsdatascience.com/ways-to-handle-categorical-data-before-train-ml-models-with-implementation-ffc213dc84ec\n"
   ]
  },
  {
   "cell_type": "markdown",
   "metadata": {
    "id": "KBi6pk2IAC3t"
   },
   "source": [
    "## 4 Analyse Exploratoire de Données (EDA)\n",
    "\n",
    "\n",
    "![image.png](attachment:image.png)\n",
    "\n",
    "https://www.alliage-ad.com/data-science/aed/"
   ]
  },
  {
   "cell_type": "code",
   "execution_count": null,
   "metadata": {
    "id": "Dzy3Y7k1AC3u"
   },
   "outputs": [],
   "source": []
  },
  {
   "cell_type": "code",
   "execution_count": null,
   "metadata": {
    "id": "Uj7wvdWZAC3u"
   },
   "outputs": [],
   "source": []
  },
  {
   "cell_type": "code",
   "execution_count": null,
   "metadata": {
    "id": "i3GKg-BlAC3v"
   },
   "outputs": [],
   "source": []
  },
  {
   "cell_type": "markdown",
   "metadata": {
    "id": "D0ageyNDAC3v"
   },
   "source": [
    "<br>\n",
    "<br>"
   ]
  }
 ],
 "metadata": {
  "colab": {
   "provenance": [],
   "toc_visible": true
  },
  "kernelspec": {
   "display_name": "Python 3 (ipykernel)",
   "language": "python",
   "name": "python3"
  },
  "language_info": {
   "codemirror_mode": {
    "name": "ipython",
    "version": 3
   },
   "file_extension": ".py",
   "mimetype": "text/x-python",
   "name": "python",
   "nbconvert_exporter": "python",
   "pygments_lexer": "ipython3",
   "version": "3.9.12"
  },
  "toc": {
   "base_numbering": 1,
   "nav_menu": {},
   "number_sections": true,
   "sideBar": true,
   "skip_h1_title": true,
   "title_cell": "Table of Contents",
   "title_sidebar": "Contents",
   "toc_cell": false,
   "toc_position": {
    "height": "calc(100% - 180px)",
    "left": "10px",
    "top": "150px",
    "width": "268.299px"
   },
   "toc_section_display": true,
   "toc_window_display": true
  }
 },
 "nbformat": 4,
 "nbformat_minor": 1
}
