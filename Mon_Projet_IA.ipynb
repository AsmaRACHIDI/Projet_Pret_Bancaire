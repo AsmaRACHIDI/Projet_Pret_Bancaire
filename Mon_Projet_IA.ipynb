{
 "cells": [
  {
   "cell_type": "markdown",
   "id": "01de48ec",
   "metadata": {
    "slideshow": {
     "slide_type": "slide"
    }
   },
   "source": [
    "**Objectif du projet**: Prédire si un client est éligible à un prêt.\n",
    "\n",
    "**Les étapes du projet :**\n",
    "\n",
    "**EDA (Analyse Exploratoire des Données) :** \n",
    "- prise en main du jeu de données, nettoyage\n",
    "- analyse de corrélation des variables\n",
    "- définition des variables pertinentes\n",
    "\n",
    "=> output : dataframe propre avec les variables pertinentes pour la prédiction du prix du bien\n",
    "\n",
    "**Base de données SQL :**\n",
    "\n",
    "**Développer un programme d'intelligence artificielle :**µ\n",
    "- choix et entrainement de modèles de prédiction\n",
    "- évaluation et comparaison de ces modèles\n",
    "- enregister le modèle le plus performant (pickle..)\n",
    "\n",
    "=> output: retenir le modèle plus performant.\n",
    "\n",
    "**Développement API (Flask) :**\n",
    "- définir une application flask\n",
    "- charger le modèle de prédiction retenu  \n",
    "\n",
    "=> output: tester le modèle à partir d'une page web."
   ]
  },
  {
   "cell_type": "markdown",
   "id": "a1a3000f",
   "metadata": {
    "slideshow": {
     "slide_type": "subslide"
    }
   },
   "source": [
    "## EDA\n",
    "\n",
    "Prise en main du  jeu de données: \n",
    "- collecte, nettoyage de données\n",
    "- vérifications/transformations de types (int,float,datetime,string ..) + définition de nouvelles variables(date? ..)\n",
    "- vérification des données: valeurs uniques(distinctes)/ nulles/ non renseignées / outliers ? (boxplot)..."
   ]
  },
  {
   "cell_type": "markdown",
   "id": "75fefaa1",
   "metadata": {},
   "source": [
    "### Importation des librairies"
   ]
  },
  {
   "cell_type": "code",
   "execution_count": null,
   "id": "ea7f1ce0",
   "metadata": {},
   "outputs": [],
   "source": [
    "import numpy as np\n",
    "import pandas as pd\n",
    "import matplotlib.pyplot as plt\n",
    "import seaborn as sns\n",
    "\n",
    "from sklearn.preprocessing import MinMaxScaler\n",
    "\n",
    "from sklearn.model_selection import GridSearchCV\n",
    "\n",
    "%matplotlib inline \n",
    "\n",
    "import warnings\n",
    "warnings.filterwarnings('ignore')"
   ]
  },
  {
   "cell_type": "markdown",
   "id": "1fae7f2c",
   "metadata": {},
   "source": [
    "### Importation des données"
   ]
  },
  {
   "cell_type": "code",
   "execution_count": null,
   "id": "ead488fc",
   "metadata": {},
   "outputs": [],
   "source": [
    "#loading the dataset\n",
    "train = pd.read_csv(r'C:\\Users\\Asma\\Documents\\ExoSimplon\\Sem15_Grand_Projet\\Data\\train_u6lujuX_CVtuZ9i.csv')\n",
    "test = pd.read_csv(r'C:\\Users\\Asma\\Documents\\ExoSimplon\\Sem15_Grand_Projet\\Data\\test_Y3wMUE5_7gLdaTN.csv')"
   ]
  },
  {
   "cell_type": "code",
   "execution_count": null,
   "id": "4d358c67",
   "metadata": {},
   "outputs": [],
   "source": [
    "train.head()"
   ]
  },
  {
   "cell_type": "code",
   "execution_count": null,
   "id": "b53747ed",
   "metadata": {},
   "outputs": [],
   "source": [
    "test.head()"
   ]
  },
  {
   "cell_type": "markdown",
   "id": "4cf2fb02",
   "metadata": {},
   "source": [
    "=> Pas de colonne target = 'Loan_Status' pour le test set"
   ]
  },
  {
   "cell_type": "code",
   "execution_count": null,
   "id": "b250c06d",
   "metadata": {},
   "outputs": [],
   "source": [
    "print('Train shape : ', train.shape, '\\nTest  shape : ', test.shape)"
   ]
  },
  {
   "cell_type": "markdown",
   "id": "83dee09e",
   "metadata": {},
   "source": [
    "- Concaténer les deux dataframes train et test"
   ]
  },
  {
   "cell_type": "code",
   "execution_count": null,
   "id": "dbdc3021",
   "metadata": {},
   "outputs": [],
   "source": [
    "#df = pd.concat([train, test])"
   ]
  },
  {
   "cell_type": "code",
   "execution_count": null,
   "id": "3ae1b42b",
   "metadata": {},
   "outputs": [],
   "source": [
    "#df.shape"
   ]
  },
  {
   "cell_type": "code",
   "execution_count": null,
   "id": "32a9a36f",
   "metadata": {},
   "outputs": [],
   "source": [
    "# use .describe() to get more information on the dataset. \n",
    "train.describe().T"
   ]
  },
  {
   "cell_type": "code",
   "execution_count": null,
   "id": "87756a8c",
   "metadata": {},
   "outputs": [],
   "source": [
    "train.info()"
   ]
  },
  {
   "cell_type": "markdown",
   "id": "5262f97b",
   "metadata": {},
   "source": [
    "### Vérification des doubons"
   ]
  },
  {
   "cell_type": "code",
   "execution_count": null,
   "id": "170dcec7",
   "metadata": {},
   "outputs": [],
   "source": [
    "train.duplicated().sum()"
   ]
  },
  {
   "cell_type": "code",
   "execution_count": null,
   "id": "3fc83db5",
   "metadata": {},
   "outputs": [],
   "source": [
    "#train[train.duplicated()]"
   ]
  },
  {
   "cell_type": "code",
   "execution_count": null,
   "id": "b80a7225",
   "metadata": {},
   "outputs": [],
   "source": [
    "#train.drop_duplicates(inplace=True)"
   ]
  },
  {
   "cell_type": "code",
   "execution_count": null,
   "id": "27f85601",
   "metadata": {},
   "outputs": [],
   "source": [
    "train.drop('Loan_ID', axis=1, inplace=True)"
   ]
  },
  {
   "cell_type": "code",
   "execution_count": null,
   "id": "e0147854",
   "metadata": {},
   "outputs": [],
   "source": [
    "train.head()"
   ]
  },
  {
   "cell_type": "markdown",
   "id": "8541486c",
   "metadata": {},
   "source": [
    "### Vérification et Gestion des données manquantes (NAN)"
   ]
  },
  {
   "cell_type": "code",
   "execution_count": null,
   "id": "5506df4b",
   "metadata": {},
   "outputs": [],
   "source": [
    "train.isna().sum()"
   ]
  },
  {
   "cell_type": "markdown",
   "id": "04001153",
   "metadata": {},
   "source": [
    "- Remplacement de 'Gender'"
   ]
  },
  {
   "cell_type": "code",
   "execution_count": null,
   "id": "d88cfe9c",
   "metadata": {},
   "outputs": [],
   "source": [
    "train['Gender'].unique()"
   ]
  },
  {
   "cell_type": "code",
   "execution_count": null,
   "id": "2629b3da",
   "metadata": {},
   "outputs": [],
   "source": [
    "train['Gender'].value_counts()"
   ]
  },
  {
   "cell_type": "code",
   "execution_count": null,
   "id": "581b31d6",
   "metadata": {},
   "outputs": [],
   "source": [
    "train.dropna(subset=['Gender'],inplace=True)\n",
    "train.head()"
   ]
  },
  {
   "cell_type": "code",
   "execution_count": null,
   "id": "e4a1cb5a",
   "metadata": {},
   "outputs": [],
   "source": [
    "train['Gender'].isna().sum()"
   ]
  },
  {
   "cell_type": "code",
   "execution_count": null,
   "id": "70cb165f",
   "metadata": {},
   "outputs": [],
   "source": [
    "train.reset_index(drop=True) #drop=true permet de supprimer l'ancien index et garder que le réindexage"
   ]
  },
  {
   "cell_type": "code",
   "execution_count": null,
   "id": "837a1768",
   "metadata": {},
   "outputs": [],
   "source": [
    "train['Gender'].isna().sum()"
   ]
  },
  {
   "cell_type": "code",
   "execution_count": null,
   "id": "5f2bdef8",
   "metadata": {},
   "outputs": [],
   "source": [
    "train.isna().sum()"
   ]
  },
  {
   "cell_type": "markdown",
   "id": "5479195c",
   "metadata": {},
   "source": [
    "- Remplacement de 'Married'"
   ]
  },
  {
   "cell_type": "code",
   "execution_count": null,
   "id": "eadbca88",
   "metadata": {},
   "outputs": [],
   "source": [
    "train['Married'].unique()"
   ]
  },
  {
   "cell_type": "code",
   "execution_count": null,
   "id": "6b160b74",
   "metadata": {},
   "outputs": [],
   "source": [
    "train['Married'] = train['Married'].fillna('No')"
   ]
  },
  {
   "cell_type": "code",
   "execution_count": null,
   "id": "fbc02987",
   "metadata": {},
   "outputs": [],
   "source": [
    "train['Married'].unique()"
   ]
  },
  {
   "cell_type": "code",
   "execution_count": null,
   "id": "a4a661e6",
   "metadata": {},
   "outputs": [],
   "source": [
    "train.isna().sum()"
   ]
  },
  {
   "cell_type": "markdown",
   "id": "3b097319",
   "metadata": {},
   "source": [
    "- Remplacement de 'Dependents'"
   ]
  },
  {
   "cell_type": "code",
   "execution_count": null,
   "id": "2ec5c4d2",
   "metadata": {},
   "outputs": [],
   "source": [
    "train['Dependents'].unique()"
   ]
  },
  {
   "cell_type": "code",
   "execution_count": null,
   "id": "88b671ae",
   "metadata": {},
   "outputs": [],
   "source": [
    "train.Dependents = train.Dependents.fillna('0')\n",
    "\n",
    "rpl = {'0':'0', '1':'1', '2':'2', '3+':'3'}\n",
    "\n",
    "train.Dependents = train.Dependents.replace(rpl).astype(int)"
   ]
  },
  {
   "cell_type": "code",
   "execution_count": null,
   "id": "36263388",
   "metadata": {},
   "outputs": [],
   "source": [
    "train.Dependents.unique()"
   ]
  },
  {
   "cell_type": "code",
   "execution_count": null,
   "id": "ee4d0e06",
   "metadata": {},
   "outputs": [],
   "source": [
    "train.isna().sum()"
   ]
  },
  {
   "cell_type": "markdown",
   "id": "9216a181",
   "metadata": {},
   "source": [
    "- Remplacement de 'Self_Employed'"
   ]
  },
  {
   "cell_type": "code",
   "execution_count": null,
   "id": "ae40b40e",
   "metadata": {},
   "outputs": [],
   "source": [
    "train['Self_Employed'].unique()"
   ]
  },
  {
   "cell_type": "code",
   "execution_count": null,
   "id": "66940f15",
   "metadata": {},
   "outputs": [],
   "source": [
    "train['Self_Employed'].value_counts()"
   ]
  },
  {
   "cell_type": "code",
   "execution_count": null,
   "id": "66288f7e",
   "metadata": {},
   "outputs": [],
   "source": [
    "train['Self_Employed'] = train['Self_Employed'].fillna('No')"
   ]
  },
  {
   "cell_type": "code",
   "execution_count": null,
   "id": "e0e37f67",
   "metadata": {},
   "outputs": [],
   "source": [
    "train['Self_Employed'].unique()"
   ]
  },
  {
   "cell_type": "code",
   "execution_count": null,
   "id": "cb0d7fb7",
   "metadata": {},
   "outputs": [],
   "source": [
    "train['Self_Employed'].value_counts()"
   ]
  },
  {
   "cell_type": "code",
   "execution_count": null,
   "id": "1a5bf8d4",
   "metadata": {},
   "outputs": [],
   "source": [
    "train.isna().sum()"
   ]
  },
  {
   "cell_type": "markdown",
   "id": "7a352672",
   "metadata": {},
   "source": [
    "- Remplacement de 'Credit_History'"
   ]
  },
  {
   "cell_type": "code",
   "execution_count": null,
   "id": "6c39ce32",
   "metadata": {},
   "outputs": [],
   "source": [
    "train['Credit_History'].unique()"
   ]
  },
  {
   "cell_type": "code",
   "execution_count": null,
   "id": "aaefda39",
   "metadata": {},
   "outputs": [],
   "source": [
    "train['Credit_History'].value_counts()"
   ]
  },
  {
   "cell_type": "code",
   "execution_count": null,
   "id": "1df1e99e",
   "metadata": {},
   "outputs": [],
   "source": [
    "train['Credit_History'].isna().sum()"
   ]
  },
  {
   "cell_type": "code",
   "execution_count": null,
   "id": "fd7e49c4",
   "metadata": {},
   "outputs": [],
   "source": [
    "train.dropna(subset=['Credit_History'],inplace=True)"
   ]
  },
  {
   "cell_type": "code",
   "execution_count": null,
   "id": "2b43fad0",
   "metadata": {},
   "outputs": [],
   "source": [
    "train.reset_index(drop=True) #drop=true permet de supprimer l'ancien index et garder que le réindexage"
   ]
  },
  {
   "cell_type": "code",
   "execution_count": null,
   "id": "1d114210",
   "metadata": {},
   "outputs": [],
   "source": [
    "train['Credit_History'].isna().sum()"
   ]
  },
  {
   "cell_type": "markdown",
   "id": "cb26fc25",
   "metadata": {},
   "source": [
    "- Remplacement de 'LoanAmount'"
   ]
  },
  {
   "cell_type": "code",
   "execution_count": null,
   "id": "3f523eda",
   "metadata": {},
   "outputs": [],
   "source": [
    "train['LoanAmount'].unique()"
   ]
  },
  {
   "cell_type": "code",
   "execution_count": null,
   "id": "7762bd26",
   "metadata": {},
   "outputs": [],
   "source": [
    "#train['LoanAmount'].fillna(train['LoanAmount'].mode()[0], inplace=True)"
   ]
  },
  {
   "cell_type": "code",
   "execution_count": null,
   "id": "f6895f8a",
   "metadata": {},
   "outputs": [],
   "source": [
    "train.dropna(subset=['LoanAmount'],inplace=True)"
   ]
  },
  {
   "cell_type": "code",
   "execution_count": null,
   "id": "f04dc95f",
   "metadata": {},
   "outputs": [],
   "source": [
    "train.reset_index(drop=True) #drop=true permet de supprimer l'ancien index et garder que le réindexage"
   ]
  },
  {
   "cell_type": "code",
   "execution_count": null,
   "id": "bafbd532",
   "metadata": {},
   "outputs": [],
   "source": [
    "train['LoanAmount'].isna().sum()"
   ]
  },
  {
   "cell_type": "markdown",
   "id": "b5bc69f8",
   "metadata": {},
   "source": [
    "- Remplacement de 'Loan_Amount_Term'"
   ]
  },
  {
   "cell_type": "code",
   "execution_count": null,
   "id": "58ce2197",
   "metadata": {},
   "outputs": [],
   "source": [
    "train['Loan_Amount_Term'].unique()"
   ]
  },
  {
   "cell_type": "code",
   "execution_count": null,
   "id": "585f1f76",
   "metadata": {},
   "outputs": [],
   "source": [
    "#train['Loan_Amount_Term'].fillna(train['Loan_Amount_Term'].mode()[0], inplace=True)"
   ]
  },
  {
   "cell_type": "code",
   "execution_count": null,
   "id": "19293c2e",
   "metadata": {},
   "outputs": [],
   "source": [
    "train.dropna(subset=['Loan_Amount_Term'],inplace=True)"
   ]
  },
  {
   "cell_type": "code",
   "execution_count": null,
   "id": "be25e94d",
   "metadata": {},
   "outputs": [],
   "source": [
    "train.reset_index(drop=True) #drop=true permet de supprimer l'ancien index et garder que le réindexage"
   ]
  },
  {
   "cell_type": "code",
   "execution_count": null,
   "id": "8033aec6",
   "metadata": {},
   "outputs": [],
   "source": [
    "train['Loan_Amount_Term'].isna().sum()"
   ]
  },
  {
   "cell_type": "markdown",
   "id": "64a035c4",
   "metadata": {},
   "source": [
    "- Revérification des NaNs"
   ]
  },
  {
   "cell_type": "code",
   "execution_count": null,
   "id": "be6c4443",
   "metadata": {},
   "outputs": [],
   "source": [
    "train.isna().sum()"
   ]
  },
  {
   "cell_type": "code",
   "execution_count": null,
   "id": "aba46d84",
   "metadata": {},
   "outputs": [],
   "source": [
    "print('Train shape :', train.shape)"
   ]
  },
  {
   "cell_type": "markdown",
   "id": "21f1dd6f",
   "metadata": {},
   "source": [
    "### Changer les types des données"
   ]
  },
  {
   "cell_type": "code",
   "execution_count": null,
   "id": "65b6df9e",
   "metadata": {},
   "outputs": [],
   "source": [
    "train.info()"
   ]
  },
  {
   "cell_type": "code",
   "execution_count": null,
   "id": "04958533",
   "metadata": {},
   "outputs": [],
   "source": [
    "train['Credit_History'].astype(int)"
   ]
  },
  {
   "cell_type": "markdown",
   "id": "bf5e6a27",
   "metadata": {},
   "source": [
    "### Convertion des variables categorielles en variables numériques"
   ]
  },
  {
   "cell_type": "code",
   "execution_count": null,
   "id": "88e5aa81",
   "metadata": {},
   "outputs": [],
   "source": [
    "train.head(3)"
   ]
  },
  {
   "cell_type": "code",
   "execution_count": null,
   "id": "ead43fd4",
   "metadata": {},
   "outputs": [],
   "source": [
    "train['Married'] = train['Married'].map(dict(Yes=1, No=0))"
   ]
  },
  {
   "cell_type": "code",
   "execution_count": null,
   "id": "b80de9e0",
   "metadata": {},
   "outputs": [],
   "source": [
    "train['Self_Employed'] = train['Self_Employed'].map(dict(Yes=1, No=0))"
   ]
  },
  {
   "cell_type": "code",
   "execution_count": null,
   "id": "bd9748dd",
   "metadata": {},
   "outputs": [],
   "source": [
    "train['Education'].value_counts()"
   ]
  },
  {
   "cell_type": "code",
   "execution_count": null,
   "id": "dbb4f5c5",
   "metadata": {},
   "outputs": [],
   "source": [
    "train['Education'] = train['Education'].map(dict(Graduate=1, Not Graduate=0))"
   ]
  },
  {
   "cell_type": "code",
   "execution_count": null,
   "id": "94d97122",
   "metadata": {},
   "outputs": [],
   "source": [
    "train['Education'].dtypes"
   ]
  },
  {
   "cell_type": "markdown",
   "id": "9eb88a57",
   "metadata": {},
   "source": [
    "### Vérification des outliers"
   ]
  },
  {
   "cell_type": "code",
   "execution_count": null,
   "id": "2d20b6f4",
   "metadata": {},
   "outputs": [],
   "source": []
  },
  {
   "cell_type": "markdown",
   "id": "b970157a",
   "metadata": {},
   "source": [
    "# DataViz"
   ]
  },
  {
   "cell_type": "code",
   "execution_count": null,
   "id": "61373b6e",
   "metadata": {},
   "outputs": [],
   "source": [
    "# nunique() : pour trouver le nombre de valeurs uniques sur l’axe de la colonne\n",
    "\n",
    "[print(col, train[col].nunique()) for col in train.columns if train[col].dtype=='object']"
   ]
  },
  {
   "cell_type": "code",
   "execution_count": null,
   "id": "129362dd",
   "metadata": {},
   "outputs": [],
   "source": [
    "sns.countplot(train['Gender']).set_title('Sexe');"
   ]
  },
  {
   "cell_type": "code",
   "execution_count": null,
   "id": "d326337d",
   "metadata": {},
   "outputs": [],
   "source": [
    "sns.countplot(train['Married']).set_title('Marrié ?');"
   ]
  },
  {
   "cell_type": "code",
   "execution_count": null,
   "id": "851fae80",
   "metadata": {},
   "outputs": [],
   "source": [
    "sns.countplot(train['Education']).set_title('Diplômé ?');"
   ]
  },
  {
   "cell_type": "code",
   "execution_count": null,
   "id": "8766c4e9",
   "metadata": {},
   "outputs": [],
   "source": [
    "train['Dependents'].value_counts()"
   ]
  },
  {
   "cell_type": "code",
   "execution_count": null,
   "id": "b35d1959",
   "metadata": {},
   "outputs": [],
   "source": [
    "train['Dependents'].value_counts().index"
   ]
  },
  {
   "cell_type": "code",
   "execution_count": null,
   "id": "f6e7ad56",
   "metadata": {},
   "outputs": [],
   "source": [
    "fig = plt.figure(figsize =(10, 7));\n",
    "plt.pie(train['Dependents'].value_counts(), \n",
    "        labels=train['Dependents'].value_counts().index, \n",
    "        autopct='%1.1f%%',  \n",
    "        startangle=90,\n",
    "        textprops={'size': 'x-large'});\n",
    "plt.legend(title = \"Personnes à charge :\", loc =\"center right\", bbox_to_anchor =(1.3, 0.7));"
   ]
  },
  {
   "cell_type": "code",
   "execution_count": null,
   "id": "fdf9e3fb",
   "metadata": {},
   "outputs": [],
   "source": [
    "sns.countplot(train['Self_Employed']).set_title('Travailleur indépendant ?');"
   ]
  },
  {
   "cell_type": "code",
   "execution_count": null,
   "id": "04b40284",
   "metadata": {},
   "outputs": [],
   "source": [
    "sns.countplot(train['Credit_History']).set_title('Crédit historique ?');"
   ]
  },
  {
   "cell_type": "markdown",
   "id": "2b745fb5",
   "metadata": {},
   "source": [
    "# Partie 2\n",
    "\n",
    "- Analyse de corrélation des variables\n",
    "- vérifier la multicolinéarité avec un heatmap (voir comment les variables indépendantes peuvent être corrélées)\n",
    "- Définir les variables significatives\n",
    "- transformer les variables continues"
   ]
  },
  {
   "cell_type": "code",
   "execution_count": null,
   "id": "33504f4e",
   "metadata": {},
   "outputs": [],
   "source": [
    "#Matrice de corrélation\n",
    "\n",
    "corr_df = train.corr().abs()\n",
    "\n",
    "upp_mat = np.triu(train.corr())\n",
    "\n",
    "plt.figure(figsize=(20, 15))\n",
    "sns.heatmap(corr_df, annot=True, mask=upp_mat)\n",
    "#plt.savefig(\"Matrice de corrélation.png\")\n",
    "plt.show()"
   ]
  },
  {
   "cell_type": "markdown",
   "id": "0b0ca5ec",
   "metadata": {},
   "source": [
    "### Multi Colinéarité"
   ]
  },
  {
   "cell_type": "markdown",
   "id": "d4a315f9",
   "metadata": {},
   "source": [
    "* Vérifier la Multicolinéarité des features\n",
    "\n",
    "https://datascience.eu/fr/apprentissage-automatique/multicollinearite-2/\n",
    "\n",
    "https://datascience.eu/fr/mathematiques-et-statistiques/multicollinearite/"
   ]
  },
  {
   "cell_type": "code",
   "execution_count": null,
   "id": "f47d59a1",
   "metadata": {},
   "outputs": [],
   "source": [
    "def Multicollinear_Features():\n",
    "    corr = train.corr().abs()\n",
    "    features = []\n",
    "    correlations = []\n",
    "    for idx, correlation in corr['price'].T.iteritems():\n",
    "        if correlation >= .3 and idx != 'price':\n",
    "            features.append(idx)\n",
    "            correlations.append(correlation)\n",
    "    corr_price_df = pd.DataFrame({'Correlations':correlations, 'Features': features})\n",
    "    corr_price_df.sort_values(by='Correlations',ascending=False,inplace=True)\n",
    "    corr_price_df.reset_index(drop=True,inplace=True)\n",
    "      \n",
    "    Multicollinear_Features = [] \n",
    "    for feature in corr:\n",
    "        for idx, correlation in corr[feature].T.iteritems():\n",
    "            if correlation >= .8 and idx != feature and corr['price'].loc[feature] >= corr['price'].loc[idx]:\n",
    "                Multicollinear_Features.append({'Correlations':correlation,'Features':feature,'idx': idx})\n",
    "    if len(Multicollinear_Features) > 0:\n",
    "        MC_df = pd.DataFrame(Multicollinear_Features)\n",
    "    else:\n",
    "        MC_df = pd.DataFrame(columns=['Correlations', 'Features','idx'])\n",
    "    MC_df.sort_values(by='Correlations',ascending=False,inplace=True)\n",
    "    MC_df.reset_index(drop=True,inplace=True) \n",
    "    print('Multicollinear Features')\n",
    "    display(MC_df)\n",
    "    \n",
    "    print('Correlations with Target')\n",
    "    corr_price_df = corr_price_df.loc[~corr_price_df['Features'].isin(MC_df['idx'].to_list())]\n",
    "    display(corr_price_df)\n",
    "    return corr_price_df,MC_df"
   ]
  },
  {
   "cell_type": "code",
   "execution_count": null,
   "id": "a15c3fc8",
   "metadata": {},
   "outputs": [],
   "source": [
    "corr_price_df, MC_df = Multicollinear_Features()"
   ]
  },
  {
   "cell_type": "markdown",
   "id": "2e0d6da0",
   "metadata": {},
   "source": [
    "* Quels sont les meilleures variables , les plus significatives ?\n",
    "\n",
    "utiliser stepwise_selection pour choisir les meilleurs features\n",
    "\n",
    "https://towardsdatascience.com/feature-selection-techniques-in-regression-model-26878fe0e24e\n",
    "\n",
    "https://en.wikipedia.org/wiki/Stepwise_regression\n",
    "\n",
    "https://towardsdatascience.com/stepwise-regression-tutorial-in-python-ebf7c782c922\n",
    "\n",
    "https://bookdown.org/max/FES/greedy-stepwise-selection.html"
   ]
  },
  {
   "cell_type": "code",
   "execution_count": null,
   "id": "f04ae046",
   "metadata": {},
   "outputs": [],
   "source": [
    "#Nouveau df avec les features qu'on garde\n",
    "\n",
    "values = []\n",
    "cols = []\n",
    "for col, value in df.iteritems():\n",
    "    if (col in corr_price_df['Features'].to_list()):\n",
    "        values.append(df[col])\n",
    "        cols.append(col)\n",
    "df1 = pd.concat(values,axis=1)\n",
    "df1"
   ]
  },
  {
   "cell_type": "code",
   "execution_count": null,
   "id": "cce93117",
   "metadata": {},
   "outputs": [],
   "source": [
    "df1 = df[['price'] + df1.columns.tolist()]\n",
    "df1"
   ]
  },
  {
   "cell_type": "markdown",
   "id": "08d3c0f2",
   "metadata": {},
   "source": [
    "# Sauvegarde du nouveau df propre"
   ]
  },
  {
   "cell_type": "code",
   "execution_count": null,
   "id": "dd82b9a5",
   "metadata": {},
   "outputs": [],
   "source": []
  },
  {
   "cell_type": "code",
   "execution_count": null,
   "id": "8ee6b523",
   "metadata": {},
   "outputs": [],
   "source": []
  }
 ],
 "metadata": {
  "celltoolbar": "Aucun(e)",
  "kernelspec": {
   "display_name": "Python 3 (ipykernel)",
   "language": "python",
   "name": "python3"
  },
  "language_info": {
   "codemirror_mode": {
    "name": "ipython",
    "version": 3
   },
   "file_extension": ".py",
   "mimetype": "text/x-python",
   "name": "python",
   "nbconvert_exporter": "python",
   "pygments_lexer": "ipython3",
   "version": "3.9.12"
  }
 },
 "nbformat": 4,
 "nbformat_minor": 5
}
